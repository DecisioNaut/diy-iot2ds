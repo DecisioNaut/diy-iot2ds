{
  "nbformat": 4,
  "nbformat_minor": 0,
  "metadata": {
    "colab": {
      "name": "Copy of analyze_weather_data.ipynb",
      "version": "0.3.2",
      "provenance": [],
      "collapsed_sections": [],
      "include_colab_link": true
    },
    "kernelspec": {
      "name": "python3",
      "display_name": "Python 3"
    }
  },
  "cells": [
    {
      "cell_type": "markdown",
      "metadata": {
        "id": "view-in-github",
        "colab_type": "text"
      },
      "source": [
        "<a href=\"https://colab.research.google.com/github/QuantificAid/diy-iot2ds/blob/master/analyze_weather_data.ipynb\" target=\"_parent\"><img src=\"https://colab.research.google.com/assets/colab-badge.svg\" alt=\"Open In Colab\"/></a>"
      ]
    },
    {
      "metadata": {
        "id": "vs5bjHWkKAB4",
        "colab_type": "text"
      },
      "cell_type": "markdown",
      "source": [
        "# Ein wenig Data Science (Fortsetzung)\n",
        "\n",
        "Mit diesem Notebook können Daten, die im Projekt [\"diy-iot2ds\"](https://github.com/birds-on-mars/diy-iot2ds) entstehen und auf einer Google-Tabelle im GDrive auflaufen, visualisiert und auf Ausreißer (Outlier) hin analysiert werden.  \n",
        "\n",
        "Damit das alles funktioniert, bitte in den Google-Account, auf dem die Daten auflaufen, einloggen und dann in GitHub den Link \"open in colab\" klicken. Dabei wird man von Google gebeten, die Nutzungsbedingungen zu akzeptieren und die Freigaben zur Nutzung von Colab im entsprechenden Account zu erteilen - ohne das läuft's nicht...  \n",
        "\n",
        "Dann: **Willkommen in Google Colab**, einer erstaunlich vollständigen Umgebung, wie sie viele Data Scientists benutzen. In Google Colab (einem Derivat von dem Open Source-Projekt Jupyter Notebook) lassen sich Programmierung, Kommentierung und Visualisierung miteinander integrieren.  \n",
        "\n",
        "Um von Zelle zu Zelle zu springen (und diese dabei nacheinander auszuführen) `Shift` + `Enter` drücken - aber nur die Ruhe: die eine oder andere Zelle braucht ein wenig Zeit zum Herunterladen, Rechnen etc. Sobald man die erste Zelle ausführt, erscheint eine Warnung, dort "Run anyway" klicken und die nächste Abfrage auch bestätigen.\n",
        "\n",
        "Es kann vorkommen, dass der Minicomputer mit all dem Sammeln und Rechnen überfordert ist und einfach stehen bleibt. Sollte das wie in einem Testlauf drei Mal vorkommen, dann am besten den "cronjob" aus dem ersten Teil rückgängig machen und neu starten. Danach sollte es keine Probleme mehr geben.
        "\n",
        "In den nächsten beiden Zellen installieren und importieren wir zunächst ein paar Hilfsprogramme, die wir nutzen möchten:"
      ]
    },
    {
      "metadata": {
        "id": "26fImPU-UOZ8",
        "colab_type": "code",
        "colab": {}
      },
      "cell_type": "code",
      "source": [
        "# Install and import library to access gsheets\n",
        "!pip install --upgrade -q gspread\n",
        "import gspread"
      ],
      "execution_count": 0,
      "outputs": []
    },
    {
      "metadata": {
        "id": "lYCJIewoWTgS",
        "colab_type": "code",
        "colab": {}
      },
      "cell_type": "code",
      "source": [
        "# Import libraries authentication and authorization\n",
        "from google.colab import auth\n",
        "from oauth2client.client import GoogleCredentials\n",
        "\n",
        "# Import libraries for data science\n",
        "import datetime as dt\n",
        "import numpy as np\n",
        "import pandas as pd\n",
        "import matplotlib.pyplot as plt"
      ],
      "execution_count": 0,
      "outputs": []
    },
    {
      "metadata": {
        "id": "UovZpI39OD7X",
        "colab_type": "text"
      },
      "cell_type": "markdown",
      "source": [
        "In der nächsten Zelle erlauben wir diesem Notebook, auf die Daten der Google-Tabelle zuzugreifen. Bei der Ausführung erscheint ein blau markierter Link, den wir klicken müssen. Daraufhin öffnet sich ein Fenster, in dem wir nochmals den Account auswählen und bestätigen müssen, und dann ein Fenster in dem wir die Zustimmung erteilen. Dann erscheint ein \"Success Code\", den wir kopieren, dann wieder in dieses Fenster wechseln, den kopieren Code in das kleine Kästchen in der Zelle eintragen und \"Enter drücken\"."
      ]
    },
    {
      "metadata": {
        "id": "HnH9KsppUOZe",
        "colab_type": "code",
        "colab": {}
      },
      "cell_type": "code",
      "source": [
        "auth.authenticate_user()\n",
        "gc = gspread.authorize(GoogleCredentials.get_application_default())"
      ],
      "execution_count": 0,
      "outputs": []
    },
    {
      "metadata": {
        "id": "lZFY4WmMOx6_",
        "colab_type": "text"
      },
      "cell_type": "markdown",
      "source": [
        "Ab hier nun einfach klicken, gucken und ein bisschen freuen...  \n",
        "\n",
        "Jetzt laden wir nämlich die Daten aus unserem Notebook und bringen sie in die Form, die wir im Weiteren brauchen:"
      ]
    },
    {
      "metadata": {
        "id": "7KRRP-rYWlWc",
        "colab_type": "code",
        "colab": {}
      },
      "cell_type": "code",
      "source": [
        "# Access worksheet\n",
        "worksheet = gc.open('diy-iot2ds').sheet1\n",
        "\n",
        "# get_all_values gives a list of rows.\n",
        "rows = worksheet.get_all_values()\n",
        "\n",
        "# Convert to a DataFrame (weather data frame = wdf) and render\n",
        "wdf = pd.DataFrame.from_records(columns=['time', 'temperature', 'pressure', 'humidity'], data=rows[1:])\n",
        "\n",
        "# Sort by time (and drop possible duplicates with regards to time)\n",
        "wdf = wdf.sort_values(by='time')\n",
        "wdf.drop_duplicates(subset='time', inplace=True)\n",
        "\n",
        "# Assert format of wdf\n",
        "wdf.time = pd.to_datetime(wdf.time, dayfirst=True)\n",
        "wdf.temperature = pd.to_numeric(wdf.temperature.str.replace(\",\", \".\"))\n",
        "wdf.pressure = pd.to_numeric(wdf.pressure.str.replace(\",\", \".\"))\n",
        "wdf.humidity = pd.to_numeric(wdf.humidity.str.replace(\",\", \".\"))\n",
        "\n",
        "# Set time as index\n",
        "wdf.set_index('time', inplace=True)"
      ],
      "execution_count": 0,
      "outputs": []
    },
    {
      "metadata": {
        "id": "yNWyRlptPPAI",
        "colab_type": "text"
      },
      "cell_type": "markdown",
      "source": [
        "Jetzt gucken wir mal, ob das ganze gelungen ist, indem die letzten 5 Einträge ausgegeben werden:"
      ]
    },
    {
      "metadata": {
        "id": "UGZ03-BuXJNV",
        "colab_type": "code",
        "outputId": "51e44c69-c1aa-430c-b79f-b5f4d9ebd9ee",
        "colab": {
          "base_uri": "https://localhost:8080/",
          "height": 233
        }
      },
      "cell_type": "code",
      "source": [
        "# Check data structure by last 5 entries\n",
        "wdf.tail()"
      ],
      "execution_count": 0,
      "outputs": [
        {
          "output_type": "execute_result",
          "data": {
            "text/html": [
              "<div>\n",
              "<style scoped>\n",
              "    .dataframe tbody tr th:only-of-type {\n",
              "        vertical-align: middle;\n",
              "    }\n",
              "\n",
              "    .dataframe tbody tr th {\n",
              "        vertical-align: top;\n",
              "    }\n",
              "\n",
              "    .dataframe thead th {\n",
              "        text-align: right;\n",
              "    }\n",
              "</style>\n",
              "<table border=\"1\" class=\"dataframe\">\n",
              "  <thead>\n",
              "    <tr style=\"text-align: right;\">\n",
              "      <th></th>\n",
              "      <th>temperature</th>\n",
              "      <th>pressure</th>\n",
              "      <th>humidity</th>\n",
              "    </tr>\n",
              "    <tr>\n",
              "      <th>time</th>\n",
              "      <th></th>\n",
              "      <th></th>\n",
              "      <th></th>\n",
              "    </tr>\n",
              "  </thead>\n",
              "  <tbody>\n",
              "    <tr>\n",
              "      <th>2019-04-24 13:13:31</th>\n",
              "      <td>24.971</td>\n",
              "      <td>1002.556</td>\n",
              "      <td>43.662</td>\n",
              "    </tr>\n",
              "    <tr>\n",
              "      <th>2019-04-24 13:13:43</th>\n",
              "      <td>24.966</td>\n",
              "      <td>1002.547</td>\n",
              "      <td>43.629</td>\n",
              "    </tr>\n",
              "    <tr>\n",
              "      <th>2019-04-24 13:13:54</th>\n",
              "      <td>24.981</td>\n",
              "      <td>1002.626</td>\n",
              "      <td>43.647</td>\n",
              "    </tr>\n",
              "    <tr>\n",
              "      <th>2019-04-24 13:14:05</th>\n",
              "      <td>24.986</td>\n",
              "      <td>1002.634</td>\n",
              "      <td>43.724</td>\n",
              "    </tr>\n",
              "    <tr>\n",
              "      <th>2019-04-24 13:14:17</th>\n",
              "      <td>24.996</td>\n",
              "      <td>1002.625</td>\n",
              "      <td>43.714</td>\n",
              "    </tr>\n",
              "  </tbody>\n",
              "</table>\n",
              "</div>"
            ],
            "text/plain": [
              "                     temperature  pressure  humidity\n",
              "time                                                \n",
              "2019-04-24 13:13:31       24.971  1002.556    43.662\n",
              "2019-04-24 13:13:43       24.966  1002.547    43.629\n",
              "2019-04-24 13:13:54       24.981  1002.626    43.647\n",
              "2019-04-24 13:14:05       24.986  1002.634    43.724\n",
              "2019-04-24 13:14:17       24.996  1002.625    43.714"
            ]
          },
          "metadata": {
            "tags": []
          },
          "execution_count": 5
        }
      ]
    },
    {
      "metadata": {
        "id": "k38ZyN3TPTug",
        "colab_type": "text"
      },
      "cell_type": "markdown",
      "source": [
        "Netter und anschaulicher als eine Tabelle ist aber oft eine Grafik:"
      ]
    },
    {
      "metadata": {
        "id": "tjclRYtbXo0s",
        "colab_type": "code",
        "outputId": "cfe59faa-49b3-49c0-9339-ad3ffffc45f3",
        "colab": {
          "base_uri": "https://localhost:8080/",
          "height": 763
        }
      },
      "cell_type": "code",
      "source": [
        "# Print timeline by feature\n",
        "fig, axes = plt.subplots(nrows=3, sharex=True, figsize=(8, 12))\n",
        "\n",
        "fig.suptitle('Timeline by Features', size='x-large')\n",
        "\n",
        "wdf.temperature.plot(ax=axes[0], color='r')\n",
        "axes[0].set_title('Temperature')\n",
        "axes[0].set_ylabel('[°C]')\n",
        "wdf.pressure.plot(ax=axes[1], color='g')\n",
        "axes[1].set_title('Pressure')\n",
        "axes[1].set_ylabel('[mbar]')\n",
        "wdf.humidity.plot(ax=axes[2], color='b')\n",
        "axes[2].set_title('Humidity')\n",
        "axes[2].set_ylabel('[%]')\n",
        "\n",
        "fig.show()"
      ],
      "execution_count": 0,
      "outputs": [
        {
          "output_type": "display_data",
          "data": {
            "image/png": "iVBORw0KGgoAAAANSUhEUgAAAf4AAALqCAYAAADUwDY1AAAABHNCSVQICAgIfAhkiAAAAAlwSFlz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\n",
            "text/plain": [
              "<Figure size 576x864 with 3 Axes>"
            ]
          },
          "metadata": {
            "tags": []
          }
        }
      ]
    },
    {
      "metadata": {
        "id": "oYdY5093P5gM",
        "colab_type": "text"
      },
      "cell_type": "markdown",
      "source": [
        "Was ist da wahrscheinlich zu sehen? Komisches Rauschen, ein paar Zacken, ansonsten ziemlich graduelle Veränderungen... naja, wir zeichnen ja auch alle 10 Sekunden neue Daten auf. Da tut sich nicht sooo viel. Es sei denn... Es sei denn jemand fasst mit seinen warmen Händen den Sensor an, neben dem Sensor geht ein Fenster auf ein deutlich kältere oder wärmere Luft kommt an den Sensor.\n",
        "\n",
        "Dann wird sich die Temperatur in vergleichsweise kurzer Zeit vergleichsweise stark ändern, oder? (Das klappt natürlich nicht, wenn wir vorher den "cronjob" beendet haben... ;) )\n",
        "\n",
        "Dann bauen wir uns doch mal die \"Veränderung je Zeit\" zusammen:"
      ]
    },
    {
      "metadata": {
        "id": "6geaUYQtxhTD",
        "colab_type": "code",
        "outputId": "563c607e-53f4-4f7c-d55d-3269129421f0",
        "colab": {
          "base_uri": "https://localhost:8080/",
          "height": 406
        }
      },
      "cell_type": "code",
      "source": [
        "cwdf = wdf.reset_index()\n",
        "\n",
        "cwdf_this = cwdf.iloc[:-1, :]\n",
        "cwdf_next = cwdf.iloc[1:, :].reset_index(drop=True)\n",
        "\n",
        "cwdf_delta = cwdf_next - cwdf_this\n",
        "\n",
        "cwdf_delta_time = pd.DataFrame((cwdf_delta.time / np.timedelta64(1, 's')).astype(int))\n",
        "cwdf_delta_features = cwdf_delta.loc[:, 'temperature': 'humidity']\n",
        "\n",
        "cwdf_delta.time = cwdf_delta_time\n",
        "cwdf_delta[['temperature', 'pressure', 'humidity']] = cwdf_delta_features\n",
        "\n",
        "cwdf_delta_per_sec = cwdf_delta.div(cwdf_delta.time, axis=0)\n",
        "cwdf_delta_per_sec.drop('time', axis=1, inplace=True)\n",
        "cwdf_delta_per_sec.columns = ['delta_temperature_per_sec', 'delta_pressure_per_sec', 'delta_humidity_per_sec']\n",
        "\n",
        "cwdf_next[['delta_temperature_per_sec', 'delta_pressure_per_sec', 'delta_humidity_per_sec']] = cwdf_delta_per_sec\n",
        "\n",
        "fwdf = cwdf_next.set_index('time')\n",
        "\n",
        "fwdf.tail()"
      ],
      "execution_count": 0,
      "outputs": [
        {
          "output_type": "execute_result",
          "data": {
            "text/html": [
              "<div>\n",
              "<style scoped>\n",
              "    .dataframe tbody tr th:only-of-type {\n",
              "        vertical-align: middle;\n",
              "    }\n",
              "\n",
              "    .dataframe tbody tr th {\n",
              "        vertical-align: top;\n",
              "    }\n",
              "\n",
              "    .dataframe thead th {\n",
              "        text-align: right;\n",
              "    }\n",
              "</style>\n",
              "<table border=\"1\" class=\"dataframe\">\n",
              "  <thead>\n",
              "    <tr style=\"text-align: right;\">\n",
              "      <th></th>\n",
              "      <th>temperature</th>\n",
              "      <th>pressure</th>\n",
              "      <th>humidity</th>\n",
              "      <th>delta_temperature_per_sec</th>\n",
              "      <th>delta_pressure_per_sec</th>\n",
              "      <th>delta_humidity_per_sec</th>\n",
              "    </tr>\n",
              "    <tr>\n",
              "      <th>time</th>\n",
              "      <th></th>\n",
              "      <th></th>\n",
              "      <th></th>\n",
              "      <th></th>\n",
              "      <th></th>\n",
              "      <th></th>\n",
              "    </tr>\n",
              "  </thead>\n",
              "  <tbody>\n",
              "    <tr>\n",
              "      <th>2019-04-24 13:13:31</th>\n",
              "      <td>24.971</td>\n",
              "      <td>1002.556</td>\n",
              "      <td>43.662</td>\n",
              "      <td>0.000455</td>\n",
              "      <td>-0.004000</td>\n",
              "      <td>0.004000</td>\n",
              "    </tr>\n",
              "    <tr>\n",
              "      <th>2019-04-24 13:13:43</th>\n",
              "      <td>24.966</td>\n",
              "      <td>1002.547</td>\n",
              "      <td>43.629</td>\n",
              "      <td>-0.000417</td>\n",
              "      <td>-0.000750</td>\n",
              "      <td>-0.002750</td>\n",
              "    </tr>\n",
              "    <tr>\n",
              "      <th>2019-04-24 13:13:54</th>\n",
              "      <td>24.981</td>\n",
              "      <td>1002.626</td>\n",
              "      <td>43.647</td>\n",
              "      <td>0.001364</td>\n",
              "      <td>0.007182</td>\n",
              "      <td>0.001636</td>\n",
              "    </tr>\n",
              "    <tr>\n",
              "      <th>2019-04-24 13:14:05</th>\n",
              "      <td>24.986</td>\n",
              "      <td>1002.634</td>\n",
              "      <td>43.724</td>\n",
              "      <td>0.000455</td>\n",
              "      <td>0.000727</td>\n",
              "      <td>0.007000</td>\n",
              "    </tr>\n",
              "    <tr>\n",
              "      <th>2019-04-24 13:14:17</th>\n",
              "      <td>24.996</td>\n",
              "      <td>1002.625</td>\n",
              "      <td>43.714</td>\n",
              "      <td>0.000833</td>\n",
              "      <td>-0.000750</td>\n",
              "      <td>-0.000833</td>\n",
              "    </tr>\n",
              "  </tbody>\n",
              "</table>\n",
              "</div>"
            ],
            "text/plain": [
              "                     temperature  pressure  humidity  \\\n",
              "time                                                   \n",
              "2019-04-24 13:13:31       24.971  1002.556    43.662   \n",
              "2019-04-24 13:13:43       24.966  1002.547    43.629   \n",
              "2019-04-24 13:13:54       24.981  1002.626    43.647   \n",
              "2019-04-24 13:14:05       24.986  1002.634    43.724   \n",
              "2019-04-24 13:14:17       24.996  1002.625    43.714   \n",
              "\n",
              "                     delta_temperature_per_sec  delta_pressure_per_sec  \\\n",
              "time                                                                     \n",
              "2019-04-24 13:13:31                   0.000455               -0.004000   \n",
              "2019-04-24 13:13:43                  -0.000417               -0.000750   \n",
              "2019-04-24 13:13:54                   0.001364                0.007182   \n",
              "2019-04-24 13:14:05                   0.000455                0.000727   \n",
              "2019-04-24 13:14:17                   0.000833               -0.000750   \n",
              "\n",
              "                     delta_humidity_per_sec  \n",
              "time                                         \n",
              "2019-04-24 13:13:31                0.004000  \n",
              "2019-04-24 13:13:43               -0.002750  \n",
              "2019-04-24 13:13:54                0.001636  \n",
              "2019-04-24 13:14:05                0.007000  \n",
              "2019-04-24 13:14:17               -0.000833  "
            ]
          },
          "metadata": {
            "tags": []
          },
          "execution_count": 7
        }
      ]
    },
    {
      "metadata": {
        "id": "XCKoi8wQQyJ8",
        "colab_type": "text"
      },
      "cell_type": "markdown",
      "source": [
        "Nun gucken wir uns die \"Veränderung je Zeit\" mal grafisch an:"
      ]
    },
    {
      "metadata": {
        "id": "icEhCdhe3f3q",
        "colab_type": "code",
        "outputId": "7f57d165-1226-4129-dc39-04dad9231b88",
        "colab": {
          "base_uri": "https://localhost:8080/",
          "height": 763
        }
      },
      "cell_type": "code",
      "source": [
        "# Print timeline by feature\n",
        "fig, axes = plt.subplots(nrows=3, sharex=True, figsize=(8, 12))\n",
        "\n",
        "fig.suptitle('Timeline by Change in Features per Second', size='x-large')\n",
        "\n",
        "fwdf.delta_temperature_per_sec.plot(ax=axes[0], color='r')\n",
        "axes[0].set_title('Delta Temperature p. Sec.')\n",
        "axes[0].set_ylabel('[°C/sec]')\n",
        "fwdf.delta_pressure_per_sec.plot(ax=axes[1], color='g')\n",
        "axes[1].set_title('Delta Pressure p. Sec.')\n",
        "axes[1].set_ylabel('[mbar/sec]')\n",
        "fwdf.delta_humidity_per_sec.plot(ax=axes[2], color='b')\n",
        "axes[2].set_title('Delta Humidity per. Sec.')\n",
        "axes[2].set_ylabel('[%/sec]')\n",
        "\n",
        "fig.show()"
      ],
      "execution_count": 0,
      "outputs": [
        {
          "output_type": "display_data",
          "data": {
            "image/png": "iVBORw0KGgoAAAANSUhEUgAAAgMAAALqCAYAAACokFcdAAAABHNCSVQICAgIfAhkiAAAAAlwSFlz\nAAALEgAACxIB0t1+/AAAADl0RVh0U29mdHdhcmUAbWF0cGxvdGxpYiB2ZXJzaW9uIDMuMC4zLCBo\ndHRwOi8vbWF0cGxvdGxpYi5vcmcvnQurowAAIABJREFUeJzs3XmYHFW5x/HvjyzssiUECJAECGAQ\nhWtAcUEQEPQq6FUUWQwCIhdxQ0UQBAUXFhUXEAnIBXFBEZCgLLIKypYEAxgwEkIgCVvIxpKwJHnv\nH+cMdJqeme7pnu6eqd/nefrprqpT57xV3TP19qlT1YoIzMzMrLhWanUAZmZm1lpOBszMzArOyYCZ\nmVnBORkwMzMrOCcDZmZmBedkwMzMrOCcDBSYpFsknd+ktmZKOqHZbUsaKSkkvau32+oihpB0YKva\nbwRJu+Tt2LjVsVixSbpQ0g2tjqO/cTLQD+V/2l09Zuai/wMc3aIwW9l2w0jaRtLFkuZIeknSo5Ku\nkLRrq2NrsNuBDYHH66lE0sGdfCZ/0ZgwX23nBkkXNrLO/kDSSpK+Kulfkl6QtFDSvZK+0+rYrLUG\ntjoA6xUblrx+B3AZ8F/AE3neMoCImN/kuF7VyrYbRdKewJ9IB8rDgP8AqwPvB84FtmxddI0VES8D\nTzaoumVAeQ/D4gbV3XCSBuft7zO6iPlE4IvA54E7gFWANwFvb2J41o4iwo9+/AB2AQLYuMKyW4Dz\ny6Z/CXwHeBpYCHyX1IN0IvAUMBf4blk9g4BvAY8ALwJTgc+WlZkJnNBN2+cD3yQddOYDvwLWKKtn\nP2BKbmcm8CNg9S62f2Te/gOBG4ElwAxgv7K2x5etJ+Bh4Jud1Lta3h/XdLJ8nZLXARwJXAw8B8wG\njisrvz9wF7AIeAb4C7Blhe34OPBn0sFzBnBwWT2jgL/m/TML+FyFfd3t+9Xd56hkeg/g1hzPA8D7\nu6nnYGBpN2Xemrfh+fx5uxwYUbaNl5N6KRYD9wMHlSy/MMdW+tilZB++q6y96cC3yt6vLwC/ze/H\n7/P8Ybnuufl9/Aewc9l+/VF+f18iJd+XdLOtQTo4Xwa8AMwBvlhWZg3gJ3nZYuCfwP9U+GwcAFyd\n6zmtk/amAD+o4v/GHnn7luR2/w9Yr6zMJ4DJ+TM0D7iG/LnP++LUvO7L+bOxf4Vt7+7vYl3g93mb\nniL9b7oIuKG7bfCjtkfLA/Cjl9/g2pOBRcBppG+1h+R1rwFOz/PG5XnvL1nvQuA+4H2kf9SfICUS\nh5aUmUn3ycBC4Exg61zXfOCUkjIHAwuAg4DNgJ1zuxd3sf0d/ygfz/8st8r/UJYB2+cyn8z/jNYo\nWW83YCmwUSf1fpgKB5ZOykb+R/YZYHPSATqA3UrKfBr4UF6+PTABeAgYXLYdM0gJwRbA93KMW+Yy\nIv2zvwvYEdiOdHBYVLavu32/uvsclUzfC+wFjCYdMJ6lJBGqUM/BdJEMAGNIScC38+dgW+BSUq/L\nKrnMtsBRwFvy/vp83g+75uVrkRKU3wMb5MdgaksG5uU2Ns/btirpgHYZMDbv/+NJB/035vWOJh3Q\ndgE2BXYAvlTFZ2N+3oYtSYnBUmCfkvf0ZtLfx7tIn/vDSQfY3co+G7NJn/FRwKhO2rsGmAgM7yKm\n95KSjs/nbd8hx/A3QCWf11dIyfsY4M059iF5+Rl5H+6bt+sbwHJW/MxX83dxRX5/3gtsA/w6f8ac\nDDT40fIA/OjlN7j2ZGBKWZmpwP1l8+4lf7vI/3iWA1uXlTmxtC6qSwbuLavjHOCOsjqOKCuzc96+\nigegkn+Up5TNv52cRAArk77tHVay/HfAlV3s12NyvetW8R4E8NOyeQ8C3+9inXXzeu8s246jS8oM\nICUxn83Te+QyW5TVs7hjX1f7fnX3OSqZLv2GOizP27OLeg7OZZ4ve2yWl19I2bfp/P4sBj7cRb1X\nAueVTN8AXNjJZ6GaZOCXFeKeDQwsm38T8OP8+id5WjX8fQZlySypR+K2kv38IrBWWZkLgD+VbVfF\nXqyy9bYG/pU/A9NI37IPKN0u0t/iqWXrbZrb2C5PPwac1Ukbq5GSpCPL5l8B3FTt3wUp4Qpgj5Ll\ng0m9DU4GGvzwmAErd2/Z9JO8/lzxk8D6+fVY0reXSZJKywwkj02oo+3HgT0BJA0FRgA/kvSDkjId\njW5B+sbTmTvKpv9B+vZPRLyUB5t9Bjhf0nrAR4CPdVGfulhWyZSy6cdJB89UmbQdcBLp2/yQkvpH\n5FhfV09ELJP0dEk9Y4BnImJ6SZn5kqaVrN/I96s8nqckLSvdrk4sI21nqVn5eQdgC0nPly1fhfQt\nFUmrkZKXD5HGxwwmJQw39yD+ztxdNr0DqYdhYdl+W5nUlQ6pZ+R6YLqk6/Prq6L78QaVPpunlLQ7\nGJhT1u5gUs9RVzG/TkT8W9K2pP3/LtKYovOBL0t6d0QsyW2+XdJRFaoYLelxYBPSqZxKtsjx3Vo2\n/2/AcWXzuvq7GJOfby+J/2VJE0mnTqyBnAxYuVfKpqOTeR1XonQ8v4PXDwKLGtsu/6dZqZ0vUvmf\n/uwa2yp3LvAVSW8mdUnOJXWpdqbjADsG+HsV9Xe6bfng9tdcz6dJXaeQemUGV1tPyXRXGvl+VYqn\ntI1OlSYsFda9mHS+udy8/HwGsA+pW34a6XzyD0mnB7qyPD+XJ3KDKpR9oUJcD5KSxHKLASJiiqRR\npB6aXUk9BadIentEPNtNbJ1ZiXSaZ4cKy8r3fXnMFUX6iv3P/PhZvuz2NtLpp4tym6eR3odyT5K+\n+TdKd59naxInA1avyfl504j4c281kr91zgK2iojzelDF20nnzzu8g3QOuKP+6ZJuIvUO7ApcEBFd\nfVP+K2mQ5fGkqwdWIGmdiFhQZWxvBIYCx0fEg3n9d1B778MDwFBJm0fEwx1xkM7ZdrxPTXm/6jCJ\ndP754XzQqmRn4DcR8QdIl8uRtvGpkjIvk06jlJqbnzfqmCFpfWB4lXF9Cng2Ip7urFBEPE/qDr9C\n0vdIgwjfA1zVRd1vB35eMl362ZwErE0aL/GvKuLsiQfzc0dv3yRgmy4StuclzSaNOZlQYfl00mmC\nnUmnJDq8p2y6Ox374B2kXhYkDSYlRg92tpL1jJMBq0s+iF4AnCfpGFKX5+qkEeFDI+K0BjZ3PPBL\nSQtI54hfIR1I3x8Rn+1m3UMl/Zv0j+5AYCfSAKlS55IGKA0kdZ12KiIWSzqY9E//BtI302mkbd+T\nlFRsVeV2PUr65/l5ST8knQM+ldq/qd9AOtVysaQvkg6I3yUNSIscdzPfr574Hqm7+9eSfkI6gI8k\nDdj8SUTMIO3nfSRdRhpvcDTpAF+aDDwC7Cppc9I360URsUTSP4Bj8mdhIGn/vFRFXL8Bvgz8RdLx\npAGNw0i9SA9GxJ8kfY3UzT2F1FvwSdIpkf90U/cHc5f8daTBmJ8gDbyDNAbhBuDy/H7dB6xDOkC+\nWGtinPfZ7fnxOCkROoH0t/SXXOxE4K+SfkS6ouc50imafYGj8qmEbwPnSHoK+CPp2/yupPEez0j6\nKalXZC7pM/kxUm/OHtXGmj+rE4CzJX2W9P4eC6xZyzZbddwdY41wOOkqgONJ2fyNpKsOZjSykYi4\nmNSV+UHSAWMi6RK5OVWsfmyO8z7S1QgHRsQ9ZWX+RDpwXBsRs+hGRFxD+pbyFOmSzH+T/qG+g5QM\nVCUiniElKHuQTg38APgqr3VrV1tPkLqxXyB1+/6ZdKpjGmkQWoemvF89kXtG3kE6J3wdKb7zSKP5\nF+ZiXyYlUDeTYp9DOiCV+iHpEs17SQnFO/P8Q0gJxO3AJcB4Xrv/RldxvUj6ZjuJNDbgP6TLG3fM\nsUAa5X40KcG6n/RefDQipr2uwhWdDOyeY/0GcExEXJHbDWDv3NaZvPYZ+2/Spa+1upaUcFyet+FS\nUtL4noh4ILd5MynJeTPpc3Rfbvs58inDiDifNKjyY6Tk51ZSD9nS3M7xpPftx6TegANJf3M31hjv\nIbn+P5PGHMwh9bxYg3VcJmJWeHng4GzSPQiubHU8jSBpTdI2nRARP2t1PLYiSUG6R8KvWx2LFZtP\nE1jhSRoErMdrvQxdnd9ta5L2Jn07e5B0Dvgk0imCP7QyLjNrb04GzFIX8s2k88wHRURN3fNtpuOy\nu5Gk0wWTSdfVP9XVSmZWbD5NYGZmVnAeQGhmZlZwTgbMzMwKzsmAmZlZwTkZMDMzKzgnA2ZmZgXn\nZMDMzKzgnAyYmZkVnJMBMzOzgnMyYGZmVnBOBszMzArOyYCZmVnBORkwMzMrOCcDZmZmBedkwMzM\nrOCcDJiZmRWckwEzM7OCczJgZmZWcE4GzMzMCs7JgJmZWcE5GTAzMys4JwNmZmYF52TAzMys4JwM\nmJmZFZyTATMzs4JzMmBmZlZwTgbMzMwKzsmAmZlZwTkZMDMzKzgnA2ZmZgXnZMDMzKzgnAyYmZkV\nnJMBMzOzgnMyYGZmVnBOBszMzArOyYCZmVnBORkwMzMrOCcDZmZmBedkwMzMrOCcDJiZmRWckwEz\nM7OCczJgZmZWcE4GzMzMCs7JgJmZWcE5GTAzMys4JwNmZmYF52TAzMys4JwMmJmZFZyTATMzs4Jz\nMmBmZlZwTgbMzMwKzsmAmZlZwTkZMDMzKzgnA2ZmZgXnZMDMzKzgnAyYmZkVnJMBMzOzgnMyYNYk\nknaRNLvVcZiZlXMyYFYlSTMlLZH0nKSFkm6XdISkHv0d5fp27+G6UyU9nx/LJL1YMv2NntTZLiTd\nKenAVsdRrZzk3SlpkaT5kv4uabtWx2VWi4GtDsCsj/lQRNwgaS3gPcBPgLcBn25mEBGxTcdrSbcA\nv46I85sZQ09IGhgRS/t6GyVtrQdcCRwCXAGsQvpcvNyM9s0axT0DZj0QEYsiYgLwCWCcpDcBSFpZ\n0g8kPSbpKUm/kLRq+fqSLgY2Ba7K3+aPyfMvlfRk/pZ5q6RtytetlqTPSpqWv63+RdLwPH8VSZF7\nNR6W9KykEyRtJenu3PZvJA3M5feSNF3St3Ndj0jat6SdVSX9WNKsHPvPJK1ctu43JT0FnCNpqKRr\nJM3N9V0pacNc/ofADsD5eb/8UNLWkpaWbdurvQd5O26SdLakBcCxXW1/hf20taSluZ4nJD0u6fNV\n7uY3Aksi4rKIWB4RiyPimoh4oLv3IS97S459Qd53X6myXbOGcjJgVoeIuBuYDbw7zzoV2BLYDtgC\nGA6cWGG9g4DHSD0Na0TE6XnRNcBoYH3gHuA3PYlL0ieALwEfAoYB/wR+XVZsN+AtpG+yJwE/BfYF\nRgE7Ah8tKTsSGAxsAHwGuEjSqLzsR8DGwLbAVnn7jy1bdxCwCfAF0v+dX5CSoY46zgSIiK8AE4HD\n8n6p9uC4MzAFGAL8sMrtLzUA2AnYDPhv4NuS3lVFuw8Cq0r6paQ9Ja1durCrOCStA9wAXE7ar1sC\nt1a1tWaNFhF++OFHFQ9gJrB7hfl3AscDAl4ANi9ZthPwSH69CzC7u/pKlq8NBLBWN3HdQjp4ls67\nGTigZHoQ8ArpgLRKrvetJcunAl8smT4bODW/3gt4EVilZPkE4GukU40vA8NLlu0KPFiy7gvAoC7i\nfzvwRNn+PLBkemtgaYV9fmB+fQTwn2q3v0L7W+f9MbJk3k+Bs6v8XLwJ+BXweG7jcmBIFe/Dp4E7\nWv259sOPiHDPgFkDDAfmA0OB1YDJeYDhQuDaPL9bkgZIOrWj656ULED6tlurEcAvSuKYCywlfYPv\n8FTJ6yUVptcomZ4bES+WTD8KbJQfg4CpJW39idSz0eHJiHilZDvXlHRBPpXyLPDXHm5jqVll09Vs\nf1d1dGxftyLiXxHxqYjYiNQjtDlwRhVxbAI8XE0bZr3NyYBZHSTtQEoG/g48QzqIbhMRa+fHWhGx\nRierR9n0/sA+wO7AWqTudUg9DrWaBRxcEsfaEbFqREzuQV0AQyStUjK9Kemb8BOkg9vmZdu8XknZ\n8u08lnQw3CEi3gC8jxW3sbz8C8CAjnEI2QZlZcrX6cn2b1Jh+2oSEVOBi0m9Bd3FMYuUOJi1nJMB\nsx6Q9AZJHwQuIY3kvz8ilgPnAWdKWj+XGy5pz06qeYp0jrrDmsBLwDxSD8P36gjxF8AJkrbKcawj\n6aPdrNOVQcA3JQ2W9F5gD+Cy/I3/AuAnkoYo2UTSHl3UtSawGFgoaQhwQtny8v3yOOkb9QG59+RI\nUgLWlZ5s/0l5MORbgIOA33dTHknbSvpSyeDMkaRBpXdWEcefgC0k/W/er2/IyaVZ0zkZMKvNVZKe\nI32rO540eK70ssKvA9OBO3MX+A2kQXWVfJ90oFgo6auk886PAnOAB3jtgFKziPgdcBZweY5jCukA\n3lMzST0AT5IO/p+OiBl52ZdIB+xJwCLSqZEtuqjrB6TTAvNIPSpXly0/E/hUHmF/ekQsAw4jDXJ8\nhvQNvssejh5s/zLgLuCRHP/JEXErgKRDJXXW3rPAu4CJkl7I23M3eQBlV3FExIL8ej/gaWBarqu7\nNs0aThHlvWtmZq+RtBdwVkR0dYDvsyRtDfwrInzfFSss9wyYmZkVnJMBMzOzgvNpAjMzs4Jzz4CZ\nmVnBFWrAzJAhQ2LkyJGtDsPMzKwpJk+e/ExEdHvjs0IlAyNHjmTSpEmtDsPMzKwpJD1aTTmfJjAz\nMys4JwNmZmYF52TAzMys4JwMmJmZFZyTATMzs75u8WJYtKjHqzsZMDMz6+u22ALWXrvHqzsZMDMz\n6+ueeKKu1Z0MmJmZFZyTATMzs4JzMmBmZlZwTgbMzMwKzsmAmZlZwTkZMDMzKzgnA2ZmZgXnZMDM\nzKzgnAyYmZkVnJMBMzOzgnMyYGZmVnBOBszMzArOyYCZmVnBORkwMzMrOCcDZmZmBde2yYCkvSRN\nkzRd0rEVlh8h6X5JUyT9XdKYVsRpZmbW17VlMiBpAHA28H5gDPDJCgf730bEthGxHXA68KMmh2lm\nZtYvtGUyAOwITI+IGRHxMnAJsE9pgYh4tmRydSCaGJ+ZmVm/MbDVAXRiODCrZHo28LbyQpI+BxwN\nDAbeW6kiSYcDhwNsuummDQ/UzMysr2vXnoGqRMTZEbE58HXghE7KjI+IsRExdujQoc0N0MzMrA9o\n12RgDrBJyfTGeV5nLgE+3KsRmZmZ9VPtmgxMBEZLGiVpMLAfMKG0gKTRJZP/DTzUxPjMzMz6jbYc\nMxARSyUdBVwHDAAuiIipkk4GJkXEBOAoSbsDrwALgHGti9jMzKzvastkACAirgauLpt3YsnrLzY9\nKDMzs36oXU8TmJmZWZM4GTAzMys4JwNmZmYF52TAzMys4JwMmJmZFZyTATMzs4JzMmBmZlZwTgbM\nzMwKzsmAmZlZwTkZMDMzKzgnA2ZmZgXnZMDMzKzgnAyYmZkVnJMBMzOzgnMyYGZmVnBOBszMzArO\nyYCZmVnBORkwMzMrOCcDZmZmBedkwMzMrOCcDJiZmRWckwEzM7OCczJgZmZWcE4GzMzMCs7JgJmZ\nWcE5GTAzMys4JwNmZmYF17bJgKS9JE2TNF3SsRWWHy3pAUn3SbpR0ohWxGlmZtbXtWUyIGkAcDbw\nfmAM8ElJY8qK/RMYGxFvBv4InN7cKM3MzPqHtkwGgB2B6RExIyJeBi4B9iktEBE3R8TiPHknsHGT\nYzQzM+sX2jUZGA7MKpmened15lDgmkoLJB0uaZKkSXPnzm1giGZmZv1DuyYDVZN0IDAWOKPS8ogY\nHxFjI2Ls0KFDmxucmZlZHzCw1QF0Yg6wScn0xnneCiTtDhwPvCciXmpSbGZmZv1Ku/YMTARGSxol\naTCwHzChtICk7YFzgb0j4ukWxGhmZtYvtGUyEBFLgaOA64AHgT9ExFRJJ0vaOxc7A1gDuFTSFEkT\nOqnOzMzMutCupwmIiKuBq8vmnVjyevemB2VmZtYP9TgZkPQ/VRR7MR/UzczMrE3V0zNwHnAloC7K\n7EzZt3szMzNrL/UkA9dExCFdFZD06zrqNzMzsybo8QDCiDiwEWXMzMysteq+mkDS5yStXTK9jqQj\n663XzMzMmqMRlxZ+JiIWdkxExALgMw2o18zMzJqgEcnAAEmvDiLMvzg4uAH1mpmZWRM04j4D1wK/\nl3Runv5snmdmZmZ9QCOSga+TEoD/zdPXA+c3oF4zMzNrgrqTgYhYLulC4KaImFZ/SGZmZtZMjbia\nYG9gCvnUgKTt/DsBZmZmfUcjBhCeBOwILASIiCnAqAbUa2ZmZk3QiGTglYhYVDYvGlBv37d0KTzt\nX1c2M7P21ohkYKqk/UmXGI6W9DPg9gbU2/f97//CsGGwZEmrIzEzM+tUI5KBzwPbAC8BvwOeBb7U\ngHr7nocfhn/+87XpP/4xPb/4YmviMTMzq0IjriZYDBwPHJ9vOLR6RBTz6LfFFuk5fJbEzMz6jkZc\nTfBbSW+QtDpwP/CApK/VH5qZmZk1QyNOE4yJiGeBDwPXkK4kOKgB9ZqZmVkTNCIZGCRpECkZmBAR\nr+CrCczMzPqMRiQD5wIzgdWBWyWNIA0iNI8dMDOzPqDHyYCknSQpIn4aEcMj4gMREcBjwK6NC7Ef\neO1HHc3MzNpOPT0DnwImS7pE0sGSNgCIZGljwjMzM7Pe1uNLCyPifwEkbQ28H7hQ0lrAzaTfKfhH\nRCxrSJRmZmbWa+oeMxAR/46IMyNiL+C9wN+BfYG76q3bzMzMel89YwZ2kPT+0nkR0XHf3QsjYmxd\nkfUHHkBoZmZ9QD09A6cBD1SYPxU4o456zczMrInqSQbWjIhHy2fmeUPqqBcASXtJmiZpuqRjKyzf\nWdI9kpZK+li97fUKX0VgZmZ9QD3JwDpdLFutjnrJv3FwNmlg4hjgk5LGlBV7DDgY+G09bZmZmRVd\nPcnADZK+K7329VfJycBNdca1IzA9ImZExMvAJcA+pQUiYmZE3Acsr7MtMzOzQqsnGfgKsBkwXdJl\nki4DHgK2BI6uM67hwKyS6dl5Xs0kHS5pkqRJc+fOrTOsGnkAoZmZ9QH13GfgBVL3/WbANnn21IiY\n0ZDIGiQixgPjAcaOHduao7PHDpiZWRvrcTIAIGk14KleSADmAJuUTG+c55mZmVmD9TgZkPQFYCcg\nJN0dET9uXFhMBEZLGkVKAvYD9m9g/WZmZpbVM2ZgHOkAfSDpdwoaJv+2wVHAdcCDwB8iYqqkkyXt\nDa/e9Gg26W6H50qa2sgYzMzMiqKe0wRnAJfn143sFQAgIq4Gri6bd2LJ64mk0wdmZmZWh3oGEF5C\nuuTPOuOrCczMrA+o57cJ7mlEmULw1QRmZtYMgwbBb2u/F189pwneKOm+LpYLWKuO+vsP9xCYmVkz\nLF0Kxx0H+9c25r6eZGDrKsosq6P+vs89AmZm1gfUM2bgdT9SZGZmZn1PPZcWWnd8esDMzJqtB8ce\nJwPN4NMFZmbWxpwMmJmZFVyxkoHnn291BGZmZm2nWMnAtGmtjsDMzKx3ecyAmZmZ1crJQG/y1QRm\nZtYHOBloBl9NYGZmzeLTBGZmZlYrJwPN4NMFZmbWxpwM9CafHjAzsz7AyUBvco+AmZn1AU4GmsE9\nBGZm1sacDJiZmRWckwEzM7OCczJgZmbWn/g+A21qyZJWR2BmZtYpJwO9qSM7GzYMli1rbSxmZmad\ncDLQGx54ID2/+OJr85wMmJlZM/g0QZvYZpv0XJoAzJ7dmljMzMy64WSgWZ59ttURmJmZVeRkYPFi\neOml3m9n+fLeb8PMzKwH2jYZkLSXpGmSpks6tsLylSX9Pi+/S9LIqir+979hq63gV7+CadNg9dVh\nlVXg179OA/0eeQQeegiOOw6+9rU0/c1vwhln1LoBK06XJgMPPghnnVV9XcuXV3cOaPp0ePnl6us1\nM7P+pwdjBhRteP98SQOA/wB7ALOBicAnI+KBkjJHAm+OiCMk7Qd8JCI+0VW9Y6WYVE9gBxyQkoZK\nLrgADj206/Wffz4lCauvXk8U3bv0Uhg5susy1d4iuZpyjSrj9tye23N7bq/2Ms8/DxtuWHlVmBwR\nY7ttok2TgZ2Ab0XEnnn6OICI+H5JmetymTskDQSeBIZGFxtUdzIA8OY3p/sGLFmSrhboePbVAmZm\n1maqTQYGNiOYHhgOzCqZng28rbMyEbFU0iJgPeCZ0kKSDgcOB3hrIyIbNQpWXTWdWlh11ddef+97\n3a972mmp++bY1531aKzNNoOf/KTz5dUmgNWUa1QZt+f23J7bc3s9K/Pzn6dT2nVo12SgYSJiPDAe\nUs9AXZU98kjn3e/f/W7XXTmbbgrHHJNez54NV10Fl1+e5v/lLzB0KJxzDnzxi7D99qnMVlul5zXX\nhPXWg4cfTvPuuiuNDXjHO+CFF9I4iBEj0jiE005LYyEG9vu31szMAL761dcff6ZPh7vvhv33r6qK\n4p0mKF88bx4880w6yNYf+GuvI1acvvlm2GWX+tswMzMrV54M5GOdpKpOE7Tr1QQTgdGSRkkaDOwH\nTCgrMwEYl19/DLipq0SgU+ut15hEoDsrteuuNjOzfmXllWtepS37kvMYgKOA64ABwAURMVXSycCk\niJgA/BK4WNJ0YD4pYWhfTgbMzKwZtt++5lXa8jRBb6l4mqCRRo2CmTPT6/LTBIsXp8GGZmZmjdZx\nvLn5ZnjLW2CddfLs6k4TtGXPQJ/14IOdH/BXWaW5sZiZWfH0cGyak4FGWmUVmDo1jeaHlJktWADf\n/371N6kwMzNrMp/IbrQxY+AjH0mvd989PX/2s62Lx8zMrBtOBnrTRRfBlCmvnrsxMzNrR04GetOq\nq6aBHGZmZm3MyYCZmVnBORkwMzMrOCcDZmZmBedkwMzMrOCcDJiZmRWckwEzM7OCczJgZmZWcE4G\nzMzMCs7JgJmZWcE5GTAzMys4JwNmZmYF52TAzMys4JwMmJmZFZyTATMzs4JzMmBmZlZwTgbMzMwK\nzsmAmZlZXzd4cF2rD2xQGGZmZtYqTzwBS5b0eHUnA2ZmZn3duuvWtXqxThNIrY7AzMys7RQrGdh2\n21ZHYGZm1nbaLhmQtK6k6yU9lJ/X6aTctZIWSvpz1ZUPGtSwOM3MzPqLtksGgGOBGyNiNHBjnq7k\nDOCgpkVlZmbWT7VjMrAPcFH4P/+iAAAgAElEQVR+fRHw4UqFIuJG4LlmBWVmZtZftWMyMCwinsiv\nnwSG1VOZpMMlTZI0ae7cufVHZ2Zm1s+05NJCSTcAG1RYdHzpRESEpKinrYgYD4wHGDt2bF11mZmZ\n9UctSQYiYvfOlkl6StKGEfGEpA2Bp5sYmpmZWeG0402HJgDjgFPz85WNqnjy5MnPSHq0yuKbAo81\nqu0+yNtf7O0H7wNvv7e/P2z/iGoKKaK9es4lrQf8gfRGPAp8PCLmSxoLHBERh+VytwFbA2sA84BD\nI+K6BsYxNyKGNqq+vsbbX+ztB+8Db7+3v0jb33Y9AxExD9itwvxJwGEl0+/u5VAW9nL97c7bb0Xf\nB97+YivU9rfj1QTtYlGrA2gxb78VfR94+4utUNvvZKBz41sdQIt5+63o+8DbX2yF2v62GzNgZmZm\nzeWeATMzs4JzMmBmZlZwTgbMzMwKzsmAmZlZwTkZMDMzKzgnA2ZmZgXnZMDMzKzgnAyYmZkVnJMB\nMzOzgnMyYGZmVnBOBszMzArOyYCZmVnBORkwMzMrOCcDZmZmBedkwKzNSdpF0uxWx2Fm/ZeTAbNe\nJmmmpCWSnpO0UNLtko6Q1KO/v1zf7nXEc4ukFyU9L+kZSZdL2rCn9fUnkgZL+qGk2Xn/zJT041bH\nZdbbnAyYNceHImJNYARwKvB14JctjOeoiFgD2BJYGzizUiFJA5oa1evbH9jkJo8DxgI7AmsCuwD3\nNDkGs6ZzMmDWRBGxKCImAJ8Axkl6E4CklSX9QNJjkp6S9AtJq5avL+liYFPgqvzN9Zg8/1JJT0pa\nJOlWSdtUGc984DKgI44LJZ0j6WpJLwC7dhWbpCGS/px7POZLuq2jx0PS1yXNyT0i0yTtVtLGd0q2\naYXTIPnb+Ncl3Qe8IGmgpI0kXSZprqRHJH2hs23K9f9C0vW57b9JGlHN/gB2AK6IiMcjmRkRvyqp\nu9M4JA2Q9A1JD+d2J0vapMp2zVrKyYBZC0TE3cBs4N151qmkb+nbAVsAw4ETK6x3EPAYqadhjYg4\nPS+6BhgNrE/6JvubauKQNAT4KPDPktn7A98lfTP+ezexfSVvx1BgGPANICRtBRwF7JB7RPYEZlYT\nU/ZJ4L9JvRbLgauAe3PbuwFfkrRnF+sfAJwCDAGmUOX+AO4EjpZ0pKRtJaljQU5yuorj6Bz3B4A3\nAIcAi6ts16ylnAyYtc7jwLr5gHM48OWImB8RzwHfA/artqKIuCAinouIl4BvAW+RtFYXq/xU0kLS\nge0J0oGsw5UR8Y+IWA681E1srwAbAiMi4pWIuC0iAlgGrAyMkTQof8N+uNrtAX4aEbMiYgnp2/rQ\niDg5Il6OiBnAeXS9f/4SEbfm/XE8sFOV39K/D5xGSiYmAXMkjcvLuovjMOCEiJiWexXujYh5NWyz\nWcs0+3ycmb1mODCf9K16NWBy6RdRoKrz9fm8/neBfXNdy/OiIcCiTlb7QkSc38myWSWvu4vtDFLy\n8de8fHxEnBoR0yV9KS/bRtJ1wNER8Xg121QWwwhgo5y8dBgA3FbN+hHxvKT5wEZl9b5ORCwDzgbO\nzqdCDgEukHR3FXFsAtSS8Ji1DfcMmLWApB1IycDfgWeAJcA2EbF2fqyVB/hVEmXT+wP7ALsDawEj\nO5rpYXil9XcZW+6N+EpEbAbsTepi3y0v+21EvIt0EA3SN26AF0gJRocNuolhFvBISftrR8SaEfGB\nLrbh1V4ASWsA65J6YqoWEUsi4mxgATCmijhmAZvX0oZZu3AyYNZEkt4g6YPAJcCvI+L+3B1/HnCm\npPVzueFdnBN/CtisZHpNUnf+PNJB9nuNire72CR9UNIW+VTHItLpgeWStpL0XkkrAy+SEoqOHosp\nwAckrStpA+BL3YRxN/BcHlS4ah6o96acUHXmA5LeJWkwaezAnRHRZa9A3p4v5QGNq+aBi+NI+/ef\nVcRxPnCKpNFK3ixpve7aNGsHTgbMmuMqSc+Rvj0eD/wI+HTJ8q8D04E7JT0L3ABs1Uld3wdOyCP4\nvwr8CngUmAM8QBoE10hdxTY6Tz8P3AH8PCJuJo0XOJXUs/AkaWDjcXmdi0ljFWYCfwV+31Xjuev+\ng6QBjI/kOs8n9YJ05rfASaTTMG8FDuxYIGmqpAM6WW8x8MMc8zPA54CPRsSMKuL4EfCHvE3Pki4d\n7bjqoqs2zVpOaayPmVn/IOlCYHZEnNDqWMz6CvcMmJmZFZyTATMzs4LzaQIzM7OCc8+AmZlZwRXq\npkNDhgyJkSNHtjoMMzOzppg8efIzETG0u3KFSgZGjhzJpEmTWh2GmZlZU0h6tJpyPk1gZmZWcE4G\nzMzMCs7JgJmZWcE5GTAzMys4JwNmZmYF52SgF81cOJONf7Qx1zx0TatDMTMz65STgV7007t+ypzn\n5vCB33b1s+tmZmat1dJkQNJekqZJmi7p2ArLd5Z0j6Slkj5WtmyZpCn5MaF5UZuZmfUvLbvpkKQB\nwNnAHsBsYKKkCRHxQEmxx4CDga9WqGJJRGzX64GamZn1c628A+GOwPSImAEg6RJgH+DVZCAiZuZl\ny1sRoJmZWRG08jTBcGBWyfTsPK9aq0iaJOlOSR/urJCkw3O5SXPnzu1prD0i1NT2zMzMeqIvDyAc\nERFjgf2BH0vavFKhiBgfEWMjYuzQod3+VoOZmVnhtDIZmANsUjK9cZ5XlYiYk59nALcA2zcyODMz\ns6JoZTIwERgtaZSkwcB+QFVXBUhaR9LK+fUQ4J2UjDUwMzOz6rUsGYiIpcBRwHXAg8AfImKqpJMl\n7Q0gaQdJs4F9gXMlTc2rvxGYJOle4Gbg1LKrENqC5DEDZmbW/lp5NQERcTVwddm8E0teTySdPihf\n73Zg214P0MzMrAD68gBCMzMzawAnA71o3pJ5rQ7BzMysW04GetGFUy5sdQhmZmbdcjJgZmZWcE4G\nzMzMCs7JgJmZWcE5GTAzMys4JwNmZmYF52TAzMys4JwMmJmZFZyTATMzs4JzMmBmZlZwTgbMzMwK\nzsmAmZlZwbU0GZC0l6RpkqZLOrbC8p0l3SNpqaSPlS0bJ+mh/BjXvKi79r3bvsfbz397q8MwMzOr\n2sBWNSxpAHA2sAcwG5goaUJEPFBS7DHgYOCrZeuuC5wEjAUCmJzXXdCM2Lty/E3HtzoEMzOzmrSy\nZ2BHYHpEzIiIl4FLgH1KC0TEzIi4D1hetu6ewPURMT8nANcDezUjaDMzs/6mlcnAcGBWyfTsPK+h\n60o6XNIkSZPmzp3bo0DNzMz6s34/gDAixkfE2IgYO3To0FaHY2Zm1nZamQzMATYpmd44z+vtdc3M\nzKxEK5OBicBoSaMkDQb2AyZUue51wPskrSNpHeB9eZ6ZmZnVqGXJQEQsBY4iHcQfBP4QEVMlnSxp\nbwBJO0iaDewLnCtpal53PnAKKaGYCJyc55mZmVmNWnZpIUBEXA1cXTbvxJLXE0mnACqtewFwQa8G\n2ECLX1nMaoNWa3UYZmZmr9PvBxC2ixkLZrQ6BDMzs4qcDJiZmRWckwEzM7OCczJgZmZWcE4GzMzM\nCs7JgJmZWcE5GWiSiGh1CGZmZhU5GTAzMys4JwNmZmYF52TAzMys4JwMmJmZFZyTATMzs4JzMmBm\nZlZwTgaaJPClhWZm1p6cDJiZmRVcS5MBSXtJmiZpuqRjKyxfWdLv8/K7JI3M80dKWiJpSn78otmx\n18o3HTIzs3bVsmRA0gDgbOD9wBjgk5LGlBU7FFgQEVsAZwKnlSx7OCK2y48jmhJ0HWYunNnqEMzM\nzCpqZc/AjsD0iJgRES8DlwD7lJXZB7gov/4jsJskNTHGhlmydEmrQzAzM6uolcnAcGBWyfTsPK9i\nmYhYCiwC1svLRkn6p6S/SXp3Z41IOlzSJEmT5s6d27jozczM+om+OoDwCWDTiNgeOBr4raQ3VCoY\nEeMjYmxEjB06dGhTgzQzM+sLWpkMzAE2KZneOM+rWEbSQGAtYF5EvBQR8wAiYjLwMLBlr0dcBw8g\nNDOzdjWwuwKSjq6inhci4twa254IjJY0inTQ3w/Yv6zMBGAccAfwMeCmiAhJQ4H5EbFM0mbAaGBG\nje2bmZkZ1fUMfA1YA1izi8dXam04jwE4CrgOeBD4Q0RMlXSypL1zsV8C60maTjod0HH54c7AfZKm\nkAYWHhER82uNwczMzKroGQAujoiTuyogafWeNB4RVwNXl807seT1i8C+Fda7DLis5vYq3AXw3ifv\n5ZAJh/C3g//GGoPXqLXKFXz+6s93uqyPXgRhZmYF0G3PQEQc04gy7eDfz/x7helXlr3Cl6/7Mvc8\ncQ+3PXpb3fWfNfGsTpd5zICZmbWrqgcQSvqepLVLpteR9J3eCat3LH55Mf984p88PP9h/jPvP2x9\n9tbcPPNmAOY8Vz520czMrBhquZrg/RGxsGMiIhYAH2h8SL3rv8b/F1v8bAu2OmsrZix4bczhZ676\nDPq22OiHG61Q/rZHb+OxRY/V3E55T4B/qMjMzNpVLcnAAEkrd0xIWhVYuYvyfdITzz/BF675Ak89\n/xSzn53NzhfuzIgfj6i5nleWv7LCtE8TmJlZu6pmAGGH3wA3Svq/PP1pXrtVcL/ys7t/xqxnZ7Ho\nxUU9rmPl7/S7PMnMzPqpqpOBiDhN0r3A7nnWKRFxXe+E1Xp/+vefVphe9OIiVh+8OgNXqiV/MjMz\na3+13oHwQeDaiPgqcJukNXshpra09mlr85Hff6TVYZiZmTVcLVcTfIZ0g5+OOw0OB/7U+Rr9z5//\n8+dWh2BmZlbR0dcdzf6Xld/Itzq19Ax8Dngn8CxARDwErN+jVo3Fryzm3ifvXWHegiULeHDug92u\n++TzT/LxSz/O8y8/31vhmZlZH3PmnWfyu3/9rkfr1pIMvBQRL3dM5B8O8hD57JVlr3S5vPzSwv0v\n25/tzt2O51567tV5bx3/Vsb8fMxr60Rwxj/OQN/WCtneN2/6Jpc+cCm/u3/FN72eAY9mZtY3LVu+\njAfmPvDqtL4t9O3a7npbSzLwN0nfAFaVtAdwKXBVTa31Y3MXz62p/JXTrgTgDae+gTnPphsePbLw\nESDdKXHBkgVMmDaBY25IN3f83b9+9+rliXfNuevVemYsmMH8JfP507//xNqnrc0Xr/li3dtiZmZ9\nx8l/O5ltfr7N6+ZfO/3aqutQtde/S1oJOBR4HyDSDwydH33oAnptpOCz9dURJ1Xe3HMmnsORVx/Z\n6Xrv3OSd/P2Qv78WS41ZWy3mHTOPdVddt9fqNzOz9vG+i9/H9TOur7zwW0yOiLHd1VF1z0BELI+I\n8yJiX+Bw4K6+lAg0SmenA+5/+v4u1/vHrH+8+vrsu89uaEzlfn3fr3u1fjMzax8rqdYLAyvUUW1B\nSbdIeoOkdYHJwHmSzqw7gj5my7O25JyJ5/Di0hdXmF96a+PuHHXNUY0OawVfvNanCszMimJ5LK+7\njlrSibUi4lngf4BfRcTbgN3qaVzSXpKmSZou6dgKy1eW9Pu8/C5JI0uWHZfnT5O0Zz1x1GLY6sM4\n8uojGfWTUZzxjzNeHQB43cP99v5LZmbWxjo9RVCDWpKBgZI2BD4O1H3BvaQBwNnA+4ExwCcljSkr\ndiiwICK2AM4ETsvrjgH2A7YB9gJ+nuvrdXccegc3feom3rT+mzjmhmMY8eMRfOuWb1W1bgHPqpiZ\nWR9Qy711TyYNGvx7REyUtBnwUB1t7whMj4gZAJIuAfYBHigpsw/wrfz6j8BZkpTnXxIRLwGPSJqe\n67ujjniqIoldR+3KrqN25e45d/P9v3+fb//t273dbM3WO329FabFawMW0y6svKy75fWsW768VeuW\nLy/6/vC+7H/7o8/uy3aJow++L/XqNhmQ9EngrxFxKelyQgDyQfyjdbQ9HJhVMj0beFtnZSJiqaRF\nwHp5/p1l6w7vJP7DSQMeYcM6oq1gx+E7csUnrmDq01N50zlv6rZ8EFx878WNDaIT+79p/1fbXCGG\nkt6JrpbVuryedRtZV91xtOv+aVBc7bxNK0y3KK52eZ/aNa7+uE2NjKuV21SvanoGNgUulTQIuBG4\nBri7r1xJEBHjgfGQLy3sBdus//rrOyu5cMqFHDbhsN4I4XV+9oGfNaUdMzNrrUZcqt7tmIGIOC0i\n3gt8ALgXOAS4R9JvJX1K0rAetj0H2KRkeuM8r2KZfMfDtYB5Va7bdg6bcBi7bVbXmEszM7OGq2UA\n4doRcUVEfDYitge+AwwFftXDticCoyWNkjSYNCBwQlmZCcC4/PpjwE25R2ICsF++2mAUMBq4u4dx\nNM1um+3GhP3KN7Hx/DPLZmZWi1qOGlcD23ZMRMQDpMF+P+xJw3kMwFGkQYkDgAsiYqqkk4FJETEB\n+CVwcR4gOJ+UMJDL/SG3vxT4XEQs60kczTRhvwmsOmjVXm/nlF1P6fU2zMysPQweMJiXl73cfcEu\n1NIzcI+kHepqrUxEXB0RW0bE5hHx3TzvxJwIEBEvRsS+EbFFROzYceVBXvbdvN5WEXFNI+PqidN3\nP73bMs1IBAA+sc0nmtKOmZm13j2H31N3HbUkA28D7pD0sKT7JN0v6b66I+gn9t+269+QHveWca++\nPuk9JwHw3HGv/WLh9hts320bw1YfxgvfeOHV6cs/fjkHbHvAq9Nf2ekrnL776YxaZ1TVcZuZWd9W\n7SD2rtTyQ0UjKs2PiEfrjqJJevOHil5to5NRnUe89QjO+eA5r5t/1t1nsdPGO/HWjd7KMdcfwxm3\nnwHAnpvvycUfuZhbZt7Cx//4cWZ/eTbD35CunjzoioOY/exsbh53c30bY2Zm/ULHsWfnETtz66O3\n8sEtP8hVn7wKSVX9UFHVYwY6DvqS1gdW6WnARdXZoL6jdnztdwpO3+N0Tt9jxdMN+26zL7HNignI\nxR9pzr0KzMysb/jPUf9h8SuLmblwJrc+emvNNyWqOhmQtDdpsOBGwNPACOBB0i2BrRuDBgxqdQhm\nZtZPjV5vNADD1khX+3/hbV+oaf1ariY4BXg7cENEbC9pV+DAmlorsEErORkwM7PetcEaG3R7OruS\nWgYQvhIR84CVJK0UETcD3Z6H6E/etH73txzujHsGzMysXdXSM7BQ0hrAbcBvJD0NvNDNOn3akNWG\n8MziZwD428F/Y8zQ8h9VrN7gAYMbFZaZmVlD1dIzsA+wBPgScC3wMPCh3giqt2yy1ibdFyox/fPT\nAdhl5C7sPGJnhqw2pOp1tx6y9QrTO228U01tm5mZNUstVxO8IGkD0k8Fzweuy6cN+oz1V1+fWSU/\nlLjpWptyx6F3MPxHK/7g4bITl7Fs+TIGDRjEyye8zICVBtTcVvlIzpVUS95lZmbWPFUfoSQdRrr/\n//+QfifgTkmH9FZgveUHe/yAT2/3aSAN6ttozY2YeuRUHj/68VfLrKSVXj3HP2jAoB4dyL/+zq83\nJmAzM7NeVsuYga8B23f0BkhaD7gduKA3AustX3nHV4gI1l99fQ7ZPuUy9YwF6My47cZx8JUHN7xe\nMzOzRqslGZgHPFcy/Vye1+dI4tTdT211GGZmZm2h22RA0tH55XTgLklXAkEaUNivfptg5Nojmbe4\nd/KboPbrPs3MzJqhmp6BNfPzw/nR4crGh9NaD3/h4e4L9VC1vwFhZmbWbN0mAxHx7WYE0g484t/M\nzIqolqsJxkq6QtI9+SeM7+vpTxhLWlfS9ZIeys/rdFJuXC7zkKRxJfNvkTRN0pT8WL8ncZiZmVlt\nAwh/Q7qi4H5geZ3tHgvcGBGnSjo2T69wLZ6kdYGTSLc8DmCypAkRsSAXOSAiJtUZh5mZWeHV0i8+\nNyImRMQjEfFox6OH7e4DXJRfXwR8uEKZPYHrI2J+TgCuB/bqYXstJ9X2c5JmZmbNUkvPwEmSzgdu\nBF7qmBkRl/eg3WER8UR+/SQwrEKZ4VByu0CYned1+D9Jy4DLgO9EJyP0JB0OHA6w6aab9iBUMzOz\n/q2WZODTwNbAIF47TRBAxWRA0g3ABhUWHV86EREhqdah9gdExBxJa5KSgYOAX1UqGBHjgfEAY8eO\n9ZB+MzOzMrUkAztExFbVFo6I3TtbJukpSRtGxBOSNgSerlBsDrBLyfTGwC257jn5+TlJvyX9XkLF\nZMDMzMy6VsuYgdslNeq+vROAjqsDxlH5ngXXAe+TtE6+2uB9wHWSBkoaAiBpEPBB4F8NisvMzKxw\naukZeDswRdIjpDEDIvXyv7kH7Z4K/EHSocCjwMchXb4IHBERh0XEfEmnABPzOifneauTkoJBwADg\nBuC8HsTQVL7pkJmZtatakoGGjeTPP3a0W4X5k4DDSqYvoOyHkCLiBeCtjYrFzMys6Kr5bYJ7IuK/\nurqMsKNMY0MzMzOzZqimZ+CN3dxpUMBaDYrHzMzMmqyaZGDrKsosqzcQMzMza41qfqiop3cZNDMz\nsz7AP9PXJIGvJjAzs/bkZMDMzKzgnAw0ifAPFZmZWXtyMmBmZlZwtdx0yKpw3xH3MW3etFaHYWZm\nVjUnAw227bBt2XbYtq+b7wGEZmbWrnyaoEn82wRmZtaunAyYmZkVnJMBMzOzgnMy0CSSLy00M7P2\n1JJkQNK6kq6X9FB+XqeTctdKWijpz2XzR0m6S9J0Sb+XNLg5kZuZmfU/reoZOBa4MSJGAzfm6UrO\nAA6qMP804MyI2AJYABzaK1GamZkVQKuSgX2Ai/Lri4APVyoUETcCz5XOU+pvfy/wx+7WNzMzs+61\nKhkYFhFP5NdPAsNqWHc9YGFELM3Ts4HhnRWWdLikSZImzZ07t2fRmpmZ9WO9dtMhSTcAG1RYdHzp\nRESEpF67CD8ixgPjAcaOHeuL/c3MzMr0WjIQEbt3tkzSU5I2jIgnJG0IPF1D1fOAtSUNzL0DGwNz\n6gy31/mHiszMrF216jTBBGBcfj0OuLLaFSPdyu9m4GM9Wb9V3rLBW1odgpmZWUWtSgZOBfaQ9BCw\ne55G0lhJ53cUknQbcCmwm6TZkvbMi74OHC1pOmkMwS+bGn0PDB7gqx/NzKw9teSHiiJiHrBbhfmT\ngMNKpt/dyfozgB17LUAzM7MC8R0IzczMCs7JgJmZWcE5GTAzMys4JwNN4ksLzcysXTkZMDMzKzgn\nA2ZmZgXnZMDMzKzgnAyYmZkVnJMBMzOzgnMy0CSrDVqt1SGYmZlV5GSgCdZeZW0GDRjU6jDMzMwq\ncjJgZmZWcE4GzMzMCs7JgJmZWcE5GWiCiGh1CGZmZp1qSTIgaV1J10t6KD+v00m5ayUtlPTnsvkX\nSnpE0pT82K45kZuZmfU/reoZOBa4MSJGAzfm6UrOAA7qZNnXImK7/JjSG0GamZkVQauSgX2Ai/Lr\ni4APVyoUETcCzzUrqN6y66hdWx2CmZlZp1qVDAyLiCfy6yeBYT2o47uS7pN0pqSVOysk6XBJkyRN\nmjt3bo+CrdfW623dknbNzMyq0WvJgKQbJP2rwmOf0nKRRtfVOsLuOGBrYAdgXeDrnRWMiPERMTYi\nxg4dOrTWzTAzM+v3BvZWxRGxe2fLJD0lacOIeELShsDTNdbd0avwkqT/A75aR6hmZmaF1qrTBBOA\ncfn1OODKWlbOCQSSRBpv8K+GRtdg/l0CMzNrZ61KBk4F9pD0ELB7nkbSWEnndxSSdBtwKbCbpNmS\n9syLfiPpfuB+YAjwnaZGX6Ujxx4JwBqD12hxJGZmZp3rtdMEXYmIecBuFeZPAg4rmX53J+u/t/ei\na5zBAwa3OgQzM7Nu+Q6EZmZmBedkwMzMrOCcDJiZmRWckwEzM7OCczJgZmZWcE4GelG6DYKZmVl7\na8mlhUXxzZ2/ybMvPcvhbz281aGYmZl1yslAL1pn1XU4f+/zuy9oZmbWQj5NYGZmVnBOBszMzArO\nyYCZmVnBORkwMzMrOCcDZmZmBedkwMzMrOAUEa2OoWkkzQUerbL4psBjvRhOu/P2F3v7wfvA2+/t\n7w/bPyIihnZXqFDJQC0kza1mB/ZX3v5ibz94H3j7vf1F2n6fJujcwlYH0GLefiv6PvD2F1uhtt/J\nQOcWtTqAFvP2W9H3gbe/2Aq1/U4GOvf/7d15vCR1ee/xzxeGxbALowgyoEiIQBRkkKDRiBuG6HXX\n4IKKCYkaUa67uGAUw9XEJASjjteIV4leDKCCG5BLJBJRh0WFQFAEZBEY9oksCvPcP6qOHMY5Z86c\nc7q6+9Tn/Xr163R3/arrear7VD/9q19VLRt2AENm/ur7OjD/futV/o4ZkCSp5+wZkCSp5ywGJEnq\nOYsBSZJ6zmJAkqSesxiQJKnnLAYkSeo5iwFJknrOYkCSpJ6zGJAkqecsBiRJ6jmLAUmSes5iQJKk\nnrMYkCSp5ywGpCFL8qQkVw87jtlK8tIkp00z/d+S/MlM2koaDosBaY6SXJHkziQrk9ya5D+S/HmS\nWf1/ta/31DnE8+sv30nPDazgqKrjq+rps2mbpJI8YhBxzbckS5KcnOTGJLcl+VGSlw87Lmk+WAxI\n8+NZVbUZsCNwNPA24FPDDUkzlWTRDJodD/wUWAJsDbwCuGGQcUldsRiQ5lFV3VZVXwFeDLwiyR4A\nSTZK8tdJfpbk+iQfT/KA1edP8lmaL5tTkvx3kre2z38xyXXtL9Kzkuw+lzhX731IcmSSz7X3d2p/\nsb8qyVVJbml7OvZJ8sO29+PYSfO+Msm3Jz1+WpJL2liPBbKmtknOap/+QZvri5NcmORZk9pv0P4S\n32sNOTwpydVJ3tm2uSLJSydNn3KdT5r3bUmuAz49g9W2D/Dpqrqjqu6pqvOq6puTlvf4JOe06+eC\nJE+cNG3rJMcl+Xm7Pk+cwfKkzlgMSANQVd8Drgae0D51NPDbwJ7AI4DtgfesYb6XAz+j6WnYtKo+\n1E76OrAL8CDgPJpfqYO2b7vMFwN/BxwBPBXYHXhRkj9YfYYk2wAnAe8CtgEuAx6/phevqokvy0e3\nuf5f4P8AL5vU7EDg5/ehUTgAABypSURBVFV1/hQxbtsuZ3uaX+rLkuzaTlvbOt8WeCBNb86hU7z+\nZOcAH2uLlh0mT2gffwV4b/uabwdOSrJ12+SfgQ2B3Wjew7+fwfKkzlgMSINzLfDAJKH5sjm8qm6u\nqpXAB4E/nukLVdU/VdXKqrobOBJ4dJItppnlmPYX6q1JbgVOnUX876+qu6rqNOAXwOer6oaqugb4\nd+A3fq3TfHlfVFX/UlW/oikirluHZX4OODDJ5u3jlwOfXcs8766qu6vqW8BXaQqVmazzVcB723nv\nnEFszwO+Q/OFf2WS85Ls3U47GPhKVX2zqlZV1TeAHwDPaAuFpwCvqapbqupXVXXWGpcgDYnFgDQ4\n2wM3A4uB3wLOnfTl/I32+bVKsn6So5NcluR24Ip20jbTzHZYVW05cQOeOYv4r590/841PN50DfNs\nB1w18aCqavLjtamqa4Gzgecn2RL4Q6bvBbmlqn4x6fGVbQwzWecrququdYjt5qp6a1XtBjwYuAg4\nuZ28I3DQagXY77Wx7ADcWFW3zXRZUtdmMmhG0jpKsg9NMfBt4EaaL8/d21/Va1OrPX4J8GyaLvor\ngC2AW5i0L34WfkHzZTlh2zm81mQ/p/nyA6D9hb7D1M3X6DPAn9Bsn76zlnW2VZJNJhUES4ALmdk6\nX309z1hVrUjyN8DL2h6aq2jGE7xm9bZtz8A2STavqttnu0xpkOwZkOZRks2TPBP4AvC5qvpRVa0C\nPgn8bZIHte22T3LAFC9zPfDwSY83A+4GbqL5Av/gPIR6AfDH7QC9pcAL5uE1oemm3z3J89oR+ocx\nfaGxeq4AXwIeA7yBZgzB2rwvyYZJnkDTA/LFWazztUryoSS7tz01mwOvAS5pf/F/FnhuO3hy/SQb\nJ9k/yXZVdRVwBvDRJFu26/yJ0y1L6prFgDQ/TkmykuYX4hHAR4BXTZr+NuAnwDltV/8ZwK6/8SqN\nvwLe1XY3v5nmC/FK4BrgP2kGss3Vu4GdaXoY3kczwG3OqupG4IU0g/duohmAePY0sxwJfKbN9UXt\na9wJnAg8jGYw4nSuo8nhWprdCX9eVZe009ZlnZPk4e1RDdtN0WRT4MvAbTQDI7cDntPGfAXwXJr1\nuoJmEOibuG8bOzEo8lKaAuj1M1ym1Ik0u/QkaXQkeQ/w21X1smnaPImm9+WhnQUmLVCOGZA0UpI8\nEHg1zZEEkjrgbgJJIyPJn9Lsavm6h99J3XE3gSRJPWfPgCRJPderMQPbbLNN7bTTTsMOQ5KkTpx7\n7rk3VtVaT3DWq2Jgp512Yvny5cMOQ5KkTiS5cibt3E0gSVLPWQxIktRzFgOSJPWcxYAkST1nMSBJ\nUs9ZDAzQihXw5S8POwpJkqbXq0MLu3bggbB8Odx2G2y++bCjkSRpzewZGKDLLmv+3nPPcOOQJGk6\nFgOSJPWcxUAHvBaUJGmUWQwMUDLsCCRJWjuLAUmSes5iQJKknrMY6IBjBiRJo8xiYIAcMyBJGgcW\nA5Ik9ZzFgCRJPWcx0AHHDEiSRpnFwAA5ZkCSNA4sBiRJ6rmxLQaS7JDkzCT/meSiJG8YdkxTcTeB\nJGmUjfMljO8B3lRV5yXZDDg3yelV9Z/DDmyCuwkkSeNgbHsGqurnVXVee38lcDGw/XCjkiRp/Ixt\nMTBZkp2AvYDvrmHaoUmWJ1m+YsWKrkOTJGnkjX0xkGRT4ETgjVV1++rTq2pZVS2tqqWLFy/uPkAc\nMyBJGm1jXQwk2YCmEDi+qk4adjyrc8yAJGkcjG0xkCTAp4CLq+ojw45HkqRxNbbFAPB44OXAk5Nc\n0N4OHHZQa+JuAknSKBvbQwur6tvASHfEu5tAkjQOxrlnQJIkzQOLAUmSes5ioAOOGZAkjTKLgQFy\nzIAkaRxYDEiS1HMWA5Ik9ZzFQAccMyBJGmUWAwPkmAFJ0jiwGJAkqecsBjrgbgJJ0iizGBggdxNI\nksaBxYAkST1nMSBJUs9ZDHTAMQOSpFFmMTBAjhmQJHVl5crme+foo9d9XosBSZIWgBtvbP5+4hPr\nPq/FgCRJPTfWxUCSf0pyQ5ILhx3LdBwzIEkaZWNdDADHAc8YdhBTccyAJGkcjHUxUFVnATcPOw5J\nksbZWBcDM5Hk0CTLkyxfsWLFUGJwN4EkaZQt+GKgqpZV1dKqWrp48eJOl+1uAknSOFjwxYAkSX0y\nm95oiwFJkhaAufRGj3UxkOTzwHeAXZNcneTVw45pTRwzIEkaZYuGHcBcVNVBw45hOo4ZkCSNg7Hu\nGZAkSXNnMdABdxNIkkaZxcA8WrkSbp50CiR3E0iSxsFYjxkYNUuWwK232hMgSerWpZfCD37Q3J/N\nd5DFwDy69dZhRyBJ6qNdd53b/O4m6IA9BZKkUWYxMECOGZAkjQOLAUmSes5iQJKknrMY6IBjBiRJ\no8xiYIAcMyBJ6ppXLZQkSevMYqAD7iaQJI0yi4EBcjeBJGkcDPwMhEm+MoNmN1fVKwcdiyRJ+k1d\nnI74kcCfTDM9wEc7iEOSJK1BF8XAEVX1rekaJHlfB3EMjWMGJEmjbOBjBqrqhPlosyZJnpHkv5L8\nJMnb19b+hhvgV79qLjU84Zxzmn37l146mwjuc++9992/8caJ+Jq/f//3v9n2jjvmtjxJkuZLZwMI\nk5yeZMtJj7dK8s05vN76NLsX/hDYDTgoyW7TzXPVVbDhhrD55vC61zVf1vvt10x7wQvgpptmGw28\n97333V+8uHntyy5rHh977P0HE+67L2yyCRxzTPP4yivhiivW3INQNX3PwmWXwRe+AL/8Jey2G+y9\n9+xzkCSNvyq46y444oiZz5PqqA87yflVtdfanluH19sPOLKqDmgfvwOgqv5q6nmWFiyfzeJ+7eCD\nYdWq+2733tv8PfHEtc+7115NoXDaaXMKYUYmljH57V39rZ7u8TDajnp869J21OMbVNtRj29d2o56\nfINqO+rxrUvbUY9vXdpON+2kk5hGzq2qpdO1gG7GDExYlWRJVf0MIMmOwFwqke2BqyY9vhrYd/VG\nSQ4FDm0ezf1n81lnwXrr3f+2/vozm/chD7lvF8KgPf3p3SxHUmP1Q4mnezzqbUc9vnVpO+rxrUvb\ntb3OXHRZDBwBfDvJt2iOIHgCv/6SHpyqWgYsg4megam94Q2w555wySVwyCGwyy7Nyl61qqnCpvvS\nv+oqWLJk+li++tXm72MfC9//fnP/mGPgsMOa+xddBMcdB/vsAy96ETzrWXDKKXD00U0PxPOe14x3\n2Hbbpofhzjvh1a+Ga66BN7+5mQfgzDNhgw3uW+6wP8Dr0nbU41uXtqMe36Dajnp869J2kBtfab5c\nf33zvTAhgWuvbXYhH374zF6js90EAEm2AX6vfXhOVc36d/JsdhPsuOPS+uAHl7P//rD11rDRRrBs\nGfzZnzUD+h7wgNlG0zj9dLj4Yth/f9hhB9hqq+b5n/wEdt75vnZVTYEx0x4FSZKms3oRu2rVxP2Z\n7SbocsxAgJcCD6+qv0yyBNi2qr43y9dbBFwKPAW4Bvg+8JKqumiqeZYuXVrLl89tzMC62HhjuPvu\n+Sk0JEmayuRiYL317jvCbabFQJenI/5HYD/goPbxSuZwsqGqugf4C+CbwMXACdMVApIk9cFsdmd1\nOWZg36p6TJLzAarqliQbzuUFq+prwNfmJTpJknqqy56BX7XnBiiAJIuBVR0uX5KkBenss+Fzn5v9\n/F32DBwDnAw8KMlRwAuAd3W4fEmSFqTHPQ4e/ejZz99ZMVBVxyc5l2bAX4DnVNXFXS1/GDwMSZLU\ntdl893R5OuKdgcur6qPAhcDTJp+eWJIkDUeXYwZOBO5N8gjgE8AOwD93uHxJkha8ke4ZAFa1hwM+\nDzi2qt4CPKTD5UuSpDXo+miCg4CDgVPb5zaYpr0kSVpHo94z8Cqakw4dVVWXJ3kY8NkOly9JktZg\n4EcTJFkGfB04o6oOm3i+qi4H/tegly9JUh/M5Qi2LnoGPgU8Gvhakn9N8rYkczgacvx0eC0oSZLW\n2cB7Bqrqu8B3gSOTbA08HXhTkkcB5wHfqKoTBh3HMHieAUlS10b92gRU1U3A59sbSfYGntFlDJIk\n6f66HEAIQJJ9k3wjyb8BS6rqqK5jkCRpoRrJnoEk21bVdZOeehPwXJpTEn+X5noFkiRpSLrYTfDx\nJOcBH6qqu4BbaS5StAq4vYPlS5KkaQx8N0FVPQc4Hzg1ycHAG4GNgK2B5wx6+ZIkaXqdjBmoqlOA\nA4AtaHYLXFpVx1TVii6WL0lSX4zkGQiT/I8kZwLfoLla4YuBZyf5Qnslw9m85guTXJRkVZKl8xnv\nIHieAUnSoM3lu6aLMQMfAB4LPAD4ZlU9luY8A7sARwF/PIvXvJDmgkefmLcoB8DzDEiSujaSRxMA\nt9F8cf8WcMPEk1X1Y2ZXCFBVFwPEb1tJkoC59Qx0MWbguTSDBRcBL+lgefeT5NAky5MsX7HCIQqS\npIVtVHsGTquqx0zXIMl5q7dJcgaw7RqaH1FVX57pwqtqGbAMYOnSpe69lyRpNV0UA49M8sNppofm\nKIP7qaqnDi4kSZI0oYti4Hdm0ObegUchSdICNtJHE1TVlfP9mkmeC/wDsBj4apILquqA+V6OJEnj\nZlTHDMy7qjqZMbqmgecZkCQN2qgfTdBbHvkoSeraSJ6BUJIkDZ49A5IkCbBnQJKk3tpkk+bv+963\n7vOO5QBCSZJ0f4sWzX5XgT0DkiT1nMWAJEk9ZzHQAc8zIEkaZRYDA+R5BiRJ48BiQJKknrMYkCSp\n5ywGJEnqOYsBSZJ6zmJAkqSesxiQJKnnLAYkSeo5i4EOeNIhSdIoG8tiIMmHk1yS5IdJTk6y5bBj\nWhNPOiRJGgdjWQwApwN7VNWjgEuBdww5HkmSxtZYFgNVdVpV3dM+PAd46DDjkSRpnI1lMbCaQ4Cv\nTzUxyaFJlidZvmLFig7DkiRpPCwadgBTSXIGsO0aJh1RVV9u2xwB3AMcP9XrVNUyYBnA0qVLHcon\nSdJqRrYYqKqnTjc9ySuBZwJPqXK8viRJszWyxcB0kjwDeCvwB1V1x7DjkSRpnI3rmIFjgc2A05Nc\nkOTjww5oOvZbSJJG2Vj2DFTVI4Ydw0x4ngFJ0jgY154BSZI0TywGJEnqOYsBSZJ6zmJAkqSesxiQ\nJKnnLAYkSeo5i4EOeJ4BSdIosxgYIM8zIEkaBxYDkiT1nMWAJEk9ZzEgSVLPWQxIktRzFgOSJPWc\nxYAkST1nMdABzzMgSRplFgMD5HkGJEnjwGJAkqSeG8tiIMn7k/wwyQVJTkuy3bBjkiRpXI1lMQB8\nuKoeVVV7AqcC7xl2QJIkjauxLAaq6vZJDzcBHKInSdIsLRp2ALOV5CjgYOA2YP9p2h0KHAqwZMmS\nboKTJGmMjGzPQJIzkly4htuzAarqiKraATge+IupXqeqllXV0qpaunjx4q7ClyRpbIxsz0BVPXWG\nTY8Hvga8d4DhzInnGZAkjbKR7RmYTpJdJj18NnDJsGKZjucZkCSNg5HtGViLo5PsCqwCrgT+fMjx\nSJI0tsayGKiq5w87BkmSFoqx3E0gSZLmj8WAJEk9ZzEgSVLPWQxIktRzFgMDdNhhzd9NNhluHJIk\nTcdiYICOPLI54dBGGw07EkmSpmYxIElSz1kMSJLUcxYDkiT1nMWAJEk9ZzEgSVLPWQxIktRzqaph\nx9CZJCtornI4E0uAnw0wnFFn/v3OH1wH5m/+CyH/Hatq8doa9aoYWBdJVsxkBS5U5t/v/MF1YP7m\n36f83U0wtVuHHcCQmb/6vg7Mv996lb/FwNRuG3YAQ2b+6vs6MP9+61X+FgNTWzbsAIbM/NX3dWD+\n/dar/B0zIElSz9kzIElSz1kMSJLUcxYDUs8lybBjGJY+5y5NZjHQY0k2nXS/dxvFJE9Ossmw4xiW\nJEcleWT1e+DQBhN3+vg/0Hd93wZO1stiIMmfJvnHJDsPO5ZhSPLSJMuBDyf5S4A+fSG0+Z8L7A/8\natjxdC3JS5KcBbwWeNmw4xmGJAe1n4GjkrwBevc/4Dawx9vANVk07AC6lGQ94IXAW4GfA/smuaaq\n7hpuZN1IsjHwFuDJwP8EbgKOS3JCVV041OA6kGQR8EbgCOAPq+qcIYfUqSSbAx8GdgLeATwS2KKd\nlr5sDJMsBV4PvA74CfCvSVZW1T8t9PWQZH3gBfRwG9j+8t8YeDM93QZOp1c9A1W1CrgA2Af4GPBE\nmg1iL7T/8F+qqv2r6ixgQ+DHwDXDjawbVXUPTb6fA65MsmGS5yfZbsihdaKqbgc+WVUHVNXZQAEv\naqct2C/ANdgdOKOqzqmqG4HjgQ8m2WKhrockGwBU1b3A+cBj6dE2MMkG1bgTOLmv28DpLPhiIMk7\nk+zb3g/w06q6FfgXIMATkmw1zBgHabX816uqH7X3n0Lzpfgg4CNJ3jzRZmjBDsDk/FvfoblY1deB\n84DnAp9JckTbfsHmn2T9qlo+afKJwD1JHjWc6Lqxhs/AdcABSXZrH68CbgcOb9svtM/AO4BPJXll\nkgdW1aVVdQv92QZOzn/riR6AvmwDZ6yqFuQNeAjNxu5W4MerTZs42dLTgc8AT1nT9HG+TZX/pNx/\nG3hge39X4L+BbYYdd0fv/37AB4GHto/3AG4Bth523F3kP6nNw2g2hnsOO94hfAY+BPxv4Nz2/lJg\nObDJsOOex/x/B/iP9j1+FnAqza6RDSe1WcjbwKny36idvutC3gau620hV0C3AV+sqi2BW5P8T2j2\nG1f77lfVacAVwO8m+aMkr2ufXwhdhWvMn3acSDW/Dm5u7/8XcApNhbxQTJU/wPeB91XV1QDV/FL4\nBrBN92EOzJSf/4kGVXU5sCOwZzttoW0PpvsMvJNmn/EhVfVW4EaaL45fLqBR5SuBE6rqZVV1CnAS\nsF9V/XLivV7g28Cp8r8bmu3eAt8GrpthVyPzcWOKKhbYrP37+zQDRTZsH68HrNfe3w+4AbgWOHzY\nuXSV/6Q2i4BjgK8CvzXsXIaQ/wbAP7T5bzzsXLrKH1i/vX8YcPywcxjCOlg0qc2GwKeAvx12HgPI\nf5NJ93en+cKb+GXch23glPlPen7st4HzcVsovwS2hPv/6gGoqpXt6OBvA98CPt4+v6qqViVZTDO6\n+hTgEVX1tx3HPV/WOf+2/cuA7wH3Ai+sqjs6jXr+zDb/Z9OMIZjIf1xHVM/m839v2+xu4OQF8Gt4\nXdfBPW37xwBnts3f0V24826q/H8x6eGTgavqvl/GE9vAD7Fwt4FT5t+2XyjbwDkb6wsVJdkCOAHY\nsqr2nfR8oOnqancL3JPkwcDFNPvKHwSsqqpLkmxTzYjisTOH/B9MM2Bqoofk8u6jn7s55r+SZuDY\noqq6ovPg58Ec8l9Mk/eP2lHWY3uuhTluA34JXNXOe3330c/dOub/d8A5VfWFtgi6vqqu6dE2cHL+\newOXAQ9sm43lNnA+jXvPwJ00g4P2SPJCuN8hJNVWvRP7yK+n2Wd0A3AcsH77/Fj+E7Tmkv9mVXXl\nmP8TzCX/Tavq6nEtBFqzzf8zNIUQ41wItOayDjaqqrvHtRBozST/jdq2mwCLk3waeD/N7pE+bAOn\nyn/LqvrpmG8D50+NwL6K2dxovswfTHM40DOB6yZN2wA4FvgSsBtN0fNymoEybxl27OZv/ubvOugw\n/13adncCFwJvHHbs5j96t6EHsA5v/GHAJ4FDuG/3xgNoTh4CcBrwnvaN356m8t9q0vxLaSrBoedi\n/uZv/q6DIeR/OO2hdON463v+A1+/ww5ghh+CVwLnAM+gGQT0DuDhNPv9PtC2OYRmEMi5q827qOt4\nzd/8zd91MEL5rz/s+M1/9G9jMYAwyWeBk6rq5DTnFX8WTZfPR2k+GDfSfChWALdX1fPbASSpduT4\nODN/86fH+YPrwPz7nX8XRnoA4aSToJxPs0+Iak6n+h2aqvD3abqGvldVe1bV04AnJXlYNcb6Q2D+\n5t/e7WX+4Dow/37n36WRKgbSXFFr8mEhE2/k2cB6SZ7YPr4IuBrYDHhPVb1r0sssqTEdHWr+5t/+\n7WX+4Dow/37nP0wjUQwk2S/JJ4HDk2xW7b6L3HcCiR/TvPkvTnOxlauA7YAdqzm15vq57/Sav1jT\nMkaZ+Zt/n/MH14H59zv/UTD0YiDJH9AcAvL/aN7cdyZ5Otx3ljCaE8T8O83xon+d5nKcW9KcXpSq\nundcu4PM3/zpcf7gOjD/fuc/KoZeDAB7A2dX1eeBD9AcD3pQmrOFkeQDwD/TXHTk3cBWNB+K22gO\nHRl35m/+fc4fXAfm3+/8R8KitTeZX0l+D7i5qi5tn/ovYM8k21XVtUn+G9gaeE6SM2kGiby9qi5r\n5z+E5uITK7uOfT6Yv/nT4/zBdWD+/c5/VHXWM5BkyyRfBU4HXpRk03bSpTTnyT8uyYnADsAFNKfL\nvbSqXlJVl03aH7RqHD8E5m/+fc4fXAfm3+/8R11n5xlIsj3wfJo3fVfg36vqa+20DYHHAw+u5iIS\nBwKvrapnttPXG/f9QeZv/vQ4f3AdmH+/8x91Ay0GkhwMXAmcX1W3J9mYpjfiLUCAZVV17Rrmexdw\na1UdO7DgOmD+5k+P8wfXgfn3O/9xMu+7CdJ4SLuv5xXAS4GPpblM5l3VXC/6DJpBIE9ebd7fT3Iu\n8ATg1PmOrQvmb/59zh9cB+bf7/zH1bwWA2mO/yyaE0FcU1VPAV4D3Awsm2hXVWfTXD3sd5JskWST\ndtJPgXdX1QE1hpeWNX/z73P+4Dow/37nP87mZTdBmrNGvZ/mkpJfAzYHXlBVr2inrwdcC7y4qr7V\nPrcpzWEkjwN2BPauqqvnHMwQmL/50+P8wXVg/v3OfyGYc89AmhNGnEvT5fMTmg/Er4D9kzwWfn1K\nySPb24Q/Al4L/AD43XH9EJi/+dPj/MF1YP79zn+hmI/zDKwC/qaqPguQZC/gYTTXlf4YsHdbFX4J\neHKSndrun7uAp1bVWfMQwzCZv/n3OX9wHZh/v/NfEOZjzMC5wAltNxE0F5RYUlXHAesneX1bFT4U\nuHdiP1BVfXmBfAjM3/z7nD+4Dsy/3/kvCHMuBqrqjqq6u6rubZ96Gs01pQFeBTwyyanA54HzoBlt\nOtfljgrzN/8+5w+uA/Pvd/4LxbydjritCovmvNJfaZ9eCbwT2AO4vKquAaj5GLU4Yszf/Olx/uA6\nMP9+5z/u5vPQwlXABsCNwKPaSvDdwKqq+vbEh2ABM3/z73P+4Dow/37nP9bm9QyEaS5A8R/t7dNV\n9al5e/ExYP7mT4/zB9eB+fc7/3E238XAQ4GXAx+pqrvn7YXHhPmbPz3OH1wH5t/v/MdZZxcqkiRJ\no6mzSxhLkqTRZDEgSVLPWQxIktRzFgOSJPWcxYAkST1nMSBpVpJsmeS17f3tkvzLsGOSNDseWihp\nVpLsBJxaVXsMORRJczRv1yaQ1DtHAzsnuQD4MfDIqtojySuB5wCbALsAfw1sSHMymruBA6vq5iQ7\nAx8FFgN3AH9aVZd0n4YkdxNImq23A5dV1Z7AW1abtgfwPGAf4CjgjqraC/gOcHDbZhnw+qraG3gz\n8I+dRC3pN9gzIGkQzqyqlcDKJLcBp7TP/4jmIjabAo8DvjjparYbdR+mJLAYkDQYk89Lv2rS41U0\n2531gFvbXgVJQ+ZuAkmztRLYbDYzVtXtwOVJXgiQxqPnMzhJM2cxIGlWquom4OwkFwIfnsVLvBR4\ndZIfABcBz57P+CTNnIcWSpLUc/YMSJLUcxYDkiT1nMWAJEk9ZzEgSVLPWQxIktRzFgOSJPWcxYAk\nST33/wEa1/5GhWPsIwAAAABJRU5ErkJggg==\n",
            "text/plain": [
              "<Figure size 576x864 with 3 Axes>"
            ]
          },
          "metadata": {
            "tags": []
          }
        }
      ]
    },
    {
      "metadata": {
        "id": "mqw9Pe_HRMLe",
        "colab_type": "text"
      },
      "cell_type": "markdown",
      "source": [
        "Wenn das jetzt alles nur nach Rauschen aussieht, dann gehen wir mal zu unserem Sensor und nehmen ihn mal für eine halbe Minute in die Hände. Danach führen dieses Schritte nochmals von oben aus.\n",
        "\n",
        "Und, sieht's jetzt anders aus? Zumindest grafisch scheint man sehen zu können, wenn jemand den Sensor manipuliert.\n",
        "\n",
        "Dieses Sehen der seltsamen Bewegung fällt uns Menschen leicht, einem Computer müssen wir es beibringen:  \n",
        "wir machen dazu eine ganz einfache Ausreißer-Detektion (Outlier-Detection): eine Veränderung die z.B. 5-mal so hoch ist, wie 95% aller Bewegungen liegt wird als  wahrscheinlich \"nicht normal\" zustande gekommen angenommen.\n",
        "\n",
        "Folgender Code identifiziert das (für die Temperatur) und markiert die Bereiche in der Grafik:"
      ]
    },
    {
      "metadata": {
        "id": "vJBjSZ1bYmxK",
        "colab_type": "code",
        "outputId": "3ac8d766-4520-4007-bffe-3fe3e5fb7df7",
        "colab": {
          "base_uri": "https://localhost:8080/",
          "height": 297
        }
      },
      "cell_type": "code",
      "source": [
        "# Create a dataframe containing the infos to print\n",
        "pdf = pd.DataFrame(fwdf[['temperature', 'delta_temperature_per_sec']])\n",
        "pdf['abs_delta_temperature_per_sec'] = pdf['delta_temperature_per_sec'].abs()\n",
        "pdf['upper_5pct'] = (pdf['abs_delta_temperature_per_sec'].rank(pct=True) > 0.95)\n",
        "pdf['possible_outlier'] = (pdf['abs_delta_temperature_per_sec'] > 5 * pdf[pdf['upper_5pct']]['abs_delta_temperature_per_sec'].min())\n",
        "\n",
        "# Plotting temperature with markes for upper 5% and outliers\n",
        "fig, ax1 = plt.subplots(figsize=(8, 4))\n",
        "ax1.set_xlabel('Date')\n",
        "ax1.set_ylabel('Temp [°C]')\n",
        "ax1.plot(pdf['temperature'], color='r')\n",
        "ax1.legend(loc=9)\n",
        "ax2 = ax1.twinx()\n",
        "ax2.fill(pdf['upper_5pct'], color='y', alpha=0.3)\n",
        "ax2.fill(pdf['possible_outlier'], color='g', alpha=0.3)\n",
        "ax2.tick_params(axis='y', color='w', labelcolor='w')\n",
        "ax2.legend(loc=1)\n",
        "fig.tight_layout()\n",
        "plt.show()"
      ],
      "execution_count": 0,
      "outputs": [
        {
          "output_type": "display_data",
          "data": {
            "image/png": "iVBORw0KGgoAAAANSUhEUgAAAjgAAAEYCAYAAABRMYxdAAAABHNCSVQICAgIfAhkiAAAAAlwSFlz\nAAALEgAACxIB0t1+/AAAADl0RVh0U29mdHdhcmUAbWF0cGxvdGxpYiB2ZXJzaW9uIDMuMC4zLCBo\ndHRwOi8vbWF0cGxvdGxpYi5vcmcvnQurowAAIABJREFUeJzt3Xl8VNX9//HXJwsEEwQhArIGFHBh\nEWVT6oIb1KpURetexLp8W7dfra1aF7S1X1sttVRbtcrXpWitSpFaW7FUpVRlUVFZ1ABGDKKQYAgk\nELKc3x93kswkk8lkuTOZmffz8chj7tx77rlnDjD5cFZzziEiIiKSTNLiXQARERGR9qYAR0RERJKO\nAhwRERFJOgpwREREJOkowBEREZGkowBHREREko4CHBEREUk6CnBEREQk6SjAERERkaSTEe8CRCMt\nLc116dIl3sUQERGRVigvL3fOuZg2qiREgNOlSxfKysriXQwRERFpBTPbHetnqotKREREko5vLThm\nNgB4EugNOOAR59xvzexZYHggWXegxDl3uF/lEBERkdTjZxdVFXCDc+5dM+sKvGNmrzrnvlObwMx+\nDezwsQwiIiKSgnwLcJxzW4AtgeOdZrYO6AesBTAzA84FTvCrDCLJrrKyksLCQvbs2RPvoqS0rKws\n+vfvT2ZmZryLktD09znxdaR/CzEZZGxmecAYYFnQ6WOAr5xz+bEog0gyKiwspGvXruTl5eH9n0Fi\nzTlHcXExhYWFDB48ON7FSWj6+5zYOtq/Bd8HGZtZDvACcL1zrjTo0vnAMxHuu8LMVprZyqqqKr+L\nKZKQ9uzZQ8+ePfXLII7MjJ49e6rVoR3o73Nia+O/hbnAVmB1U9kDc4D1wAfAEc1l6GuAY2aZeMHN\nPOfc/KDzGcBZwLNN3euce8Q5N9Y5NzYjIyFms4vEhX4ZxJ/+DNqP6jKxteHP73FgaoTr3wSGBn6u\nAP7QXIa+BTiBMTaPAeucc7MbXD4J+Mg5V+jX86NRU1PTovTOuVY9xzlHdfWeuvsrKr6iqmpXq/IS\nERFpD668HFr5e80HS4DtEa5Pw5uZ7YC38WZhHxApQz+bRiYBFwMfmtmqwLlbnHMvA+cRoXsqVp5+\n53YApg6egHOuLvIMd5yW1oXq6vJG0Wlu7ukRn/HP1fdStHsHXTI6cWz/w3nnq4/ZVr4dszSmDp5Y\nd//evdsoLX272fxaqqLiS3buXEFWVh45OSPbNW8RgJKSEp5++mm+//3vx7soEd1///1cccUV7LPP\nPvEuikRp27b57N37Vbvl16lTb/bf/6x2yy9Rle4uIrOiivKiQrp1O4CM/fv5/szc3NwMYGXQqUcC\nP9HqB3we9L4wcG5LUzf4OYtqKV6fWbhrM/x6bkvUBi+1LSv1gY2jYdFranYDLiTYjaYprmj3DsCx\nu2oP4CjeXQquplHNVFWVtLqFKJKqqmKcc+zZU6AAR3xRUlLC73//+7gHOM45nHOkpYVvmL7//vu5\n6KKLWhTgVFVVoS7y+Nm79ys6d+7fbvlVVMS10yBqxx9/PFu2bKF2i6JFixbRq1evFufTVFBfWVOB\n21sBQE1lbHYJKCoqqgLGxuRhAfqXK5Isrr8eVq1qPl1LHH443H9/xCQ33XQTGzZs4PDDD+fkk0+m\nV69e/OUvf6GiooIzzzyTO++8k4KCAqZOncrEiRN58803GTduHJdeeil33HEHW7duZd68eYwfP55Z\ns2axYcMG1q9fT1FRET/+8Y+5/PLLAbj33nvD5jtlyhQmTJjAO++8w8svv8w999zDihUr2L17N9On\nT+fOO+9kzpw5fPHFF0yePJnc3Fxee+01cnJy2LXL6yp+/vnneemll3j88ceZMWMGWVlZvPfee0ya\nNImf/exnXHPNNaxevZrKykpmzZrFtGnT2reeJeU0F5DPmzePsWPbFg+0JqjvwDYDA4Le9w+ca5IC\nHBFpk3vuuYfVq1ezatUqFi1axPPPP8/y5ctxznHGGWewZMkSBg4cyPr163nuueeYO3cu48aN4+mn\nn2bp0qUsXLiQX/ziFyxYsACADz74gLfffpuysjLGjBnDt771LVavXk1+fn7YfPPz83niiSeYOHEi\nAHfffTc9evSgurqaE088kQ8++IBrr72W2bNn89prr5Gbm9vsZyosLOTNN98kPT2dW265hRNOOIG5\nc+dSUlLC+PHjOemkk8jOzva1XiX2CgoKOO2001i92pvIc99997Fr1y5ef/11Ro8ezRtvvEFVVRVz\n585tt4B80KBBUZevNvheuXIlpaWlzJ49m9NOO43q6mp+8pOf8M9//pO0tDQuv/xynHONgvoEtxC4\nGvgzMAFvkeAmu6dAAU4MdZiBXJKsmmlpiYVFixaxaNEixowZA8CuXbvIz89n4MCBDB48mJEjvW7S\nww47jBNPPBEzY+TIkRQUFNTlMW3aNLp06UKXLl2YPHkyy5cvZ+nSpU3mO2jQoLrgBuAvf/kLjzzy\nCFVVVWzZsoW1a9cyatSoFn2Oc845h/T09LrPtHDhQu677z7Am8q8adMmDjnkkFbXkySe8vJyVq1a\nxZIlS5g5c2ZdENTWgLwpl156Kenp6Zx99tnceuutdUMiCgoKWL58ORs2bGDy5MmsX7+e//u//6Og\noIBVq1aRkZHB9u3b6dGjR+SgvuNNVnsGOB7IxRtfcwdQu1rgQ8DLwKl408TLgUuby1ABjoi0G+cc\nN998M1deeWXI+YKCAjp37lz3Pi0tre59WloawWtdNRzbVjtOrql8g1tSPv30U+677z5WrFjBfvvt\nx4wZM5pckyP4OQ3TBOfpnOOFF15g+PDhSOo6//zzATj22GMpLS2lpKQEaHtAHs68efPo168fO3fu\n5Oyzz+app57ikksuAeDcc88lLS2NoUOHMmTIED766CP+9a9/cdVVV9WNF+vRo4df1eCn85u57oAf\ntCRD7SYuIm3StWtXdu7cCcCUKVOYO3du3diWzZs3s3Xr1hbl9+KLL7Jnzx6Ki4t5/fXXGTduXNT5\nlpaWkp2dTbdu3fjqq6/4xz/+EbacAL1792bdunXU1NTw17/+tcnyTJkyhd/97nd1kwDee++9Fn0e\nSRwZGRkhy4cEB77hAu+mztcG5KtWrWLVqlWsX7+eyy67DCCqrs1+/bxZTV27duWCCy5g+fLlzZZD\nGlOAIyJt0rNnTyZNmsSIESN49dVXueCCCzjqqKMYOXIk06dPDwkqojFq1CgmT57MxIkTue222+jb\nty+nnHJKVPmOHj2aMWPGcPDBB3PBBRcwadKkumtXXHEFU6dOZfLkyYA3dui0007j6KOP5oADml5O\n47bbbqOyspJRo0Zx2GGHcdttt7Xo80jrderUm4qKwnb76dSpd8Tn9e7dm61bt1JcXExFRQUvvfRS\n3bVnn/XWpV26dCndunWjW7duQNsC8nCqqqooKioCvL25XnrpJUaMGFF3/bnnnqOmpoYNGzawceNG\nhg8fzsknn8zDDz9c1xK6fbu3nEzDoD7VqItKRNrs6aefDnl/3XXXNUpTO2YB4PHHH687zsvLC7k2\natQonnzyyUb3X3fddc3m2zDvYNdccw3XXHNN3fvp06czffr0Ruka3t+lSxcefvjhsHmKv2K9Zk1m\nZia3334748ePp1+/fhx88MF117KyshgzZgyVlZXMnTu37nxtQF5UVFQXkPft25d169Zx1FFHAZCT\nk8Of/vSnunFdkVRUVDBlyhQqKyuprq7mpJNOqhu4DDBw4EDGjx9PaWkpDz30EFlZWXzve9/jk08+\nYdSoUWRmZnL55Zdz9dVX1wX1ffv2TYZBxi2mAEdERCTg2muv5dprrw05d/zxx3PRRRdxf5iB/G0N\nyBvKzs7mnXfeafL6SSedxEMPPRRyLiMjg9mzZzN7duimAQ2D+lSjAEdEOoxZs2bFuwgikiQU4Igk\nuOCtRSQ+/FiFXDqO119/Pez5tgbkEyZMoKKiIuTcU089VbecQkNNdb9KeApwRBJYVlYWxcXF9OzZ\nU0FOnDjnKC4uJisrK95FkQSzbNmyeBchqSnAEUlg/fv3p7CwkG3btsW7KCktKyuL/v3bb88kEWk7\nBTgiCSwzM5PBgwfHuxgiIh2O1sERERGRpKMWHBER6ZDmr53PV2VftVt+vbN7c9ahsV1bR+JHAU6M\naJKFiEjLfFX2Ff33bb+xTYWlhe2WV0usXLmSJ598kjlz5jBr1ixycnL40Y9+FJKm4U7mfnrowUeZ\n+Z3pdAq8z8vLY+XKleTm5nL00Ufz5ptv+l6GWFAXlYiIiI/Gjh3LnDlz4l2MOg8/+Ci7d+8Oe60l\nwY1zLmTvro5GAY6IiAheK8rBBx/MhRdeyCGHHML06dMpLy9n8eLFjBkzhpEjRzJz5sy6tWtuuukm\nDj30UEaNGlXXIvPcc88xYsQIRo8ezbHHHgt46+icdtppdc95//33Oeqooxg6dCh//OMfG5Wjurqa\nG2+8kXHjxjFq1KiIW4U457jxxhsZMWIEI0eOrNszq+Ezr776ah5//HHmzJnDl1u+4vSzLmTaRVc1\nyi8nJ6fu+N57760rwx133FFXR8OHD+eSSy5hxIgRfP7551HXb6ypi0pERCTg448/5rHHHmPSpEnM\nnDmT2bNn8/DDD7N48WKGDRvGJZdcwh/+8Acuvvhi/vrXv/LRRx9hZpSUlABw11138corr9CvX7+6\ncw198MEHvP3225SVlTFmzBi+9a1vhVx/7LHH6NatGytWrKCiooJJkyZxyimnhJ0xOX/+fFatWsX7\n779PUVER48aNqwuswrn22mu579f38rf58+gWIQJYtGgR+fn5LF++HOccZ5xxBkuWLGHgwIHk5+fz\nxBNPMHHixChqNH7UgiMiIhIwYMCAul3oL7roIhYvXszgwYMZNmwYAN/97ndZsmQJ3bp1Iysri8su\nu4z58+ezzz77ADBp0iRmzJjBH//4R6qrq8M+Y9q0aXTp0oXc3FwmT57M8uXLQ64vWrSIJ598ksMP\nP5wJEyZQXFxMfn5+2LyWLl3K+eefT3p6Or179+a4445jxYoVba6HRYsWsWjRIsaMGcMRRxzBRx99\nVFeGQYMGdfjgBtSCIyIiUqfhiuDdu3enuLi4UbqMjAyWL1/O4sWLef7553nggQf497//zUMPPcSy\nZcv4+9//zpFHHhl248yGz2j43jnH7373O6ZMmdLqz5GRkREyPmbPnj3hEzYxA8Y5x80338yVV14Z\ncr6goIDs7OxWlyuW1IIjIiIdUu/s3hSWFrbbT+/s3s0+c9OmTbz11lsAPP3004wdO5aCggLWr18P\neHtFHXfccezatYsdO3Zw6qmn8pvf/Ib3338fgA0bNjBhwgTuuusu9t9//7BjVF588UX27NlDcXEx\nr7/+OuPGjQu5PmXKFP7whz9QWVkJwCeffEJZWVnY8h5zzDE8++yzVFdXs23bNpYsWcL48eMZNGgQ\na9eupaKigpKSEhYvXlx3T05ONjt3hc8vuAxz585l165dAGzevJmtW7c2W38diVpwRESkQ4rHmjXD\nhw/nwQcfZObMmRx66KHMmTOHiRMncs4551BVVcW4ceO46qqr2L59O9OmTWPPnj0455g9ezYAN954\nI/n5+TjnOPHEExk9ejRvvPFGyDNGjRrF5MmTKSoq4rbbbqNv374UFBTUXf/e975HQUEBRxxxBM45\n9t9/fxYsWBC2vGeeeSZvvfUWo0ePxsz41a9+RZ8+fQA499xzGTFiBIMHD2bMmDF191xy6YVMP+9S\neuf24N8vzAub7ymnnMK6des46qijAG/w8Z/+9CfS09NbXbexZomwC252drZrKnpti6eW/xQzY0re\n+LpzZoZzNZh5jVvBOzU7VwNYSNrc3NMjPuNPK24FHM7VMHXwRBYVrKSmZi+WlsbUwUfX3V9enk9Z\n2Tr23/+Mdv2MZWVrKC/fEFVZRUTiad26dRxyyCFxe34s16KJp+KyzWSUV1C1Yztdu3SlU7/h7Zp/\nuD9HMyt3zsW0b0tdVDHT8QNJERGRZKEuKhEREbwVfTtq682HH37IxRdfHHKuc+fOLFu2LE4l6vgU\n4IiISIcRPCxA6o0cOZJVq1bFuxjN6kjDXnzrojKzAWb2mpmtNbM1ZnZd0LVrzOyjwPlf+VUGERFJ\nHFlZWRQXF3eoX5ISPeccxcXFZGVlxbsogL8tOFXADc65d82sK/COmb0K9AamAaOdcxVm1svHMoiI\nSILo378/hYWFbNu2Ld5FSWq7KkpI31tF9Z4yumTuIr20/faTysrKon//9tsgtS18C3Ccc1uALYHj\nnWa2DugHXA7c45yrCFxLrIn1IiLii8zMzLDbEUj7emr5T+n1wWdsfXkeJ444gb53LW7+pgQUk1lU\nZpYHjAGWAcOAY8xsmZm9YWbjmrjnCjNbaWYrq6qqYlFMERGR1JLEvYG+DzI2sxzgBeB651ypmWUA\nPYCJwDjgL2Y2xDXodHXOPQI8At46OH6XU0REJHUk/0BuX1twzCwTL7iZ55ybHzhdCMx3nuVADZDr\nZzlEREQkWPK3G/g5i8qAx4B1zrnZQZcWAJMDaYYBnYAiv8ohIiIiqcfPLqpJwMXAh2ZWO3n/FmAu\nMNfMVgN7ge827J4SERERPyV/F5Wfs6iW0nQNXuTXc0VERES0F5WIiEjKSt4OFAU4MZO8f4lERCTB\ndLztMKYCHwPrgZvCXB8IvAa8B3wAnNpchgpwREREJJ7SgQeBbwKHAucHXoPdCvwFb02984DfN5ep\nAhwRERGJp/F4LTcb8SYf/RlvS6dgDtg3cNwN+KK5TLWbuIiISKrqGJOY+wGfB70vBCY0SDMLWARc\nA2QDJzWXqVpwRERExFe5ubkZwMqgnytamMX5wONAf7zxN0/RTAyjFhwREZFUFaPBxkVFRVXA2CYu\nbwYGBL3vHzgX7DK8gcgAbwFZeLsgNLlht1pwREREUlXH6KJaAQwFBuPtbnAesLBBmk3AiYHjQ/AC\nnG2RMlWAIyIikmo61izxKuBq4BVgHd5sqTXAXcAZgTQ3AJcD7wPPADNoZv0VdVGJiIhIvL0c+Al2\ne9DxWrwtoKKmFpxY6RCtgCIiIkGS+HeTAhwREZGU07H6qPygAEdERESSjgIcERERSToKcERERCTp\nKMARERGRpKMAR0REJGUl7zQqBTgiIiKSdBTgiIiISNJRgCMiIiJJRwGOiIhIquoYm236QgGOiIhI\nqjGtZCwiIiLJJolbbmopwImZ5P/LJCIiCaK2BSeJAx0FOCIiIqkmTV1UIiIikmxqW3BqauJbDh/5\nFuCY2QAze83M1prZGjO7LnB+lpltNrNVgZ9T/SqDiIiIhGGBX/9J3EWV4WPeVcANzrl3zawr8I6Z\nvRq49hvn3H0+PltERESaUttDlcQtOL4FOM65LcCWwPFOM1sH9PPreSIiIhKltHTvNYkDnJiMwTGz\nPGAMsCxw6moz+8DM5prZfrEog4iIiAQ0nEX1rW9Bbm78yuMD3wMcM8sBXgCud86VAn8ADgQOx2vh\n+XUT911hZivNbGVVVZXfxRQREUkddYOMAwHOyy9DcXH8yuMDXwMcM8vEC27mOefmAzjnvnLOVTvn\naoA/AuPD3euce8Q5N9Y5NzYjw8+hQrGSvAO5REQkwdSOwXGBLqru3eNWFL/4FjmYmQGPAeucc7OD\nzh8QGJ8DcCaw2q8yiIiISBgNZ1H16wdHHhm/8vjAz6aRScDFwIdmtipw7hbgfDM7HK9JowC40scy\niIiISEO1/Te1g4w/+ww6dYpbcfzg5yyqpdQ3ggV72a9nioiISBQsMIuqtgVn1y547734lccHWslY\nREQk1dStgxM0PnTChLgUxS8KcGJCA4xFRKQDqRuDU1PfitOjR/zK4wMFOCIiIqkmLWgdnAce8I7/\n8Y/4lccHCnBiRq04IiLSQdSug1Pt4Npr41sWnyjAERERSVXaqkFERESSzscf1x9ffXX8yuEDBTgi\nIiIC994b7xK0KwU4IiIiqe7JJyErK96laFcKcERERFLdhRfGuwTtrsmVjM1sVBT3Vzrn1rVjeURE\nRCTW0uLe3jEV+C2QDjwK3BMmzbnALLxpye8DF0TKMNJWDf8F3iP8dgu1BgB5kR4gIiIiEkE68CBw\nMlAIrAAWAmuD0gwFbsbb5/JroFdzmUYKcN5zzh0b6WYzW9LcA0REREQiGA+sBzYG3v8ZmEZogHM5\nXhD0deD91uYybbJNqrngJto0IiIiktpyc3MzgJVBP1cEXe4HfB70vjBwLtiwwM9/gbfxurQiijQG\n52Sgq3NufoPzZwMlzrnFzWUuIiIiHVB1bBf4KyoqqgLGtiGLDLxuquOB/sASYCRQ0tQNkUYV3QEs\nDXN+CfCzVhdRRERE4mtvRbxLEGwz3pjeWv0D54IV4o3LqQQ+BT7BC3iaFCnAyXLONerjcs5tA7Kj\nKLCIiIh0RBUdKsBZgResDAY6AefhBTPBFuC13gDk4nVXbSSCSAFONzNLb3jSzDKAfaIqsoiIiHQ8\nW76MdwmCVQFXA68A64C/AGuAu4AzAmleAYrxBh6/BtwYeN+kSLOo/go8bGbXOOd2A5jZPsD9eJGU\niIiIJKKNERs/4uHlwE+w24OOHfDDwE9UIrXg3II3eGeTmS0zs2VAAVAauCYiIiKJ5sMPoLo63qXw\nXZMtOM65KuBHZjaL+oE8+c65XbEomIiIiPhg4UuwA+gB/PwuyEu+bRogchcVZjYEMOfcezEqj4iI\niMTKYSOg95B4l8IXkdbBuRtvMLEzs73OuZtiVywRERGR1ovUgjMFODpw/BagAEdEREQSQqQA58fA\nU3ibbd4am+KIiIiItF2kQcb/Bv4dw7KIiIiItIsmp4mbWW5zN0eTRmq5eBdARESk3uBB8S6BryKt\ng7MoivujSSMiIiIdzdi27H3Z8UUKcEab2fYIP18DvZu62cwGmNlrZrbWzNaY2XUNrt9gZk6tQCIi\nInGQGXGlmIQX6dN1iuL+SP0uVcANzrl3zawr8I6ZveqcW2tmA4BTgE0tKKuIiIi0l4zMeJfAV022\n4DjnqqP4qYlw/xbn3LuB4514G2j1C1z+Dd4sLQ1MERERiYdUDXDak5nlAWOAZWY2DdjsnHu/mXuu\nMLOVZrayqqoqBqWMkeoqWLdWoZ2IiMRXRup2UbULM8sBXgCux+u2ugWveyoi59wjwCMA2dnZCR8O\nuNpPsHQpvLUUMjrBkKMj3iMiIuKbzORuwYkqwDGzUcA38Nod/uuc+yDK+zLxgpt5zrn5ZjYSGAy8\nb2YA/YF3zWy8c+7L1nyAhLNzp/e6e098yyEiIqktyQcZN9tFZWY/BZ7BGz/TH3jazG6O4j4DHgPW\nOedmAzjnPnTO9XLO5Tnn8oBC4IiUCW6CuYRvlBIRkUSW5GNwognfLgHGOOfKoW4TzveA/23mvknA\nxcCHZrYqcO4W59zLrS1scrB4F0BERATS0uNdAl9FE+BsaZAuI3AuIufcUpr5bR5oxUlRasEREZE4\nSvL/b0cT4GwH1pjZK3i/lU8BVphZbbfTD30sn3+++gp+8QvvEz36Yuyem+R/oURERDqCaAKcvwd+\nar3tU1li66OP4l0CERER8UmzAY5z7rFYFCTmYj7IN/C82hYcDTIWERHxTTSzqKaa2Qoz21q7B5WZ\nbY9F4XwVtwBDfVQiIiJ+i6aL6gHgXOBDoMmtGRKOWlBERESSVjQBTiGwKtK+UwkpyZeoFhERSWXR\n/Jb/MfA3M3sdqKg96Zyb41ehYqJ2ReF4UQuSiIiIb6LZbPNOoBroDuwf9JPYTjwxhg8LCmZMY3BE\nRET8Fk0LzgDn3AjfSxJrWVnxLoGIiIj4JJoWnFfM7ATfSyIiIiL+KivzXpN8o02ILsCZCfzLzHYl\n1TTxuNMYHBERibGNG73Xyqr4liMGognhcn0vRdw5YrY+jcbgiIhIvNx+e7xLEDPNtuA456qBc4Cf\nBI4PAA73u2AxVV0d+2eqAUdERGKhqgo2bICXX4a33vLOHfON+JYpBpptwTGzB4BM4FjgF0A58BAw\nzt+ixUD3bvD1Dvi6BHJToKFKRESSk3OwbRt88gl8/HHo64YNsHdvaPpjjwWSu5sqmi6qo51zR5jZ\newDOue1m1snncsVGnz5egHPZZfBiDHcUFxERaY3ycsjPDx/IlJTUp+vUCQ46CIYPh9NP916HDYNj\njvGup6WjAAcqzSyNQKeKmfUkWbZsWJ8f7xKIiIiEqq6GTZsaBzAffwyffx6atn9/L3g5//z6IGb4\ncBg4MPKK/fvsQ9DavR3BVOC3QDrwKHBPE+nOBp7H60VaGSnDJj+9mWU456qAB4EXgP3N7E68fanu\nbHHRO6Lp58Azz8a7FCIikoqKisK3xKxfDxVBwce++3pBy3HH1Qcww4bB0KGQnd26Z3fuDJXt8zHa\nQTperHEy3vZQK4CFwNoG6boC1wHLosk0UgvOcuAI59yTZvYOcBLeVKNznHOrW1b2Dqr7fvXHZbsg\nO8f/Z2oWlYhI6ti92wtYwgUy24NWXMnMhAMP9AKXU08NDWR69Wq/3x1paUANZHWoAGc8sB4IzGHn\nz8A0Ggc4PwN+CdwYTaaRApy62nTOrQHWRFvShJETFPnuilGAU0t7UYmIJIeaGq/rKFyX0qZNod/3\nfft6gcs554R2KeXlxWYT6K1bYemNMf/Pdm5ubgahXUqPBH4A+gHBfW+FwIQGWRwBDAD+TjsEOPub\n2Q+buuicmx3NAzq0TkFjpWM2VVwtOCIiCWn79vAtMfn5sGdPfbqcHC9omTQJLr00tEupa9f4lR+g\nZ0844ICYP7aoqKgKGNvK29OA2cCMltwUKcBJB3JI6t/IQR+tMsZtdWrBERHpeCoqmu5SKiqqT5ee\nXt+ldMopoV1KffpoOELLbMZrnanVP3CuVldgBPB64H0fvDE6ZxBhoHGkAGeLc+6u1pQ0oYw7El5+\nB/6zBAbl+f88/Z0XEYmvmhrYvDl8l9Jnn3nXa/Xp4wUuZ54Z2qU0eLA3bkbawwpgKDAYL7A5D7gg\n6PoOQndVeB34Ea2dRUWq/Cred1/vdeeu+JZDRETaV0lJ011K5eX16bKzvcBlwgS4+OL6QGbYsPrf\nEeKnKuBq4BW83qO5eON+78KqDLrbAAAbl0lEQVQLYha2JtNIAc6Jrckw4QwbDrwGw4bGuyQiItJS\ne/d6K/WGC2S2bq1Pl57utboMGwYnnBDapdS3r7qU4u/lwE+wpjbOOj6aDJsMcJxzqbFjeO1A42p/\n1y502nxKRKR1nIMvvgjfpfTpp6FdSr16NV69d/hwGDIkdGKJJL0YzEnr4NLTvdcHfw+nTInBA/W/\nBBGRsEpLw7fEfPIJlJXVp+vSxQtcjjwydAXfYcOge/f4lV86FN8CHDMbADwJ9Mbb5uER59xvzexn\neAv41ABbgRnOuS/8KkezsrrE57maRSUiqaiyEjZuDB/IfPllfbq0NG9tmGHDvI0hg7uU+vULLFgn\n0jQ/W3CqgBucc++aWVfgHTN7FbjXOXcbgJldi9fHdpWP5YgsLcYtKmrAEZFk55wXrITrUtq4MXTd\nsdxcL3D55jdDu5QOPNDbTkCklXwLcJxzW4AtgeOdZrYO6OecC156ORtSdXBKin5sEUkeO3d6M5LC\ndSnt3FmfLivLW+Ru9OjQFXyHDYMePeJXfklqMRmDY2Z5wBgCG2SZ2d3AJXhz2yfHogwdRu1IfcU3\nIpIIqqq8gbzhupS+CBpdYAaDBnlBy4wZoV1KAwaoS0lizvcAx8xy8HYjv945VwrgnPsp8FMzuxlv\n7vsdYe67ArgCoJNGvouI+Mc5b0p1uC6lDRu8IKdWjx5e4HLyyY27lLrEaUyjSBi+BjhmlokX3Mxz\nzs0Pk2Qe3rz3RgGOc65uI67s7OwkbO9Iwo8kIh1bWVn4LqWPP/ZmMNXq3BkOOggOO6zxCr49e8av\n/CIt4OcsKgMeA9YFb8xpZkOdc/mBt9OAj/wqQ9SOOxbeWIIXdPg1Crg2oNEoYxHxUXU1FBSE71Iq\nLAxNO3CgF7hcfHFol9LAgfVLaIgkKD9bcCYBFwMfmtmqwLlbgMvMbDjeNPHPiOcMqlq1G23u3Qud\ns2LzTDXgiEhrOedt/NhUl9LevfVpu3f3ApfJk0NbYg46CPbZJ36fQcRnfs6iWkr45oqGSzHH37Jl\n3uvGjXDIoe2f/5tvwttLYM5kNeCISPTKy72drcMFMiUl9ekyM72AJdwKvrm52oZAUpJWMgaYNAmW\n/Mf7n48fAc7rS0DLOYhIONXVsGlT+C6lTZtC0/bv7wUu558f2qU0aBBk6OtcJJj+RQCMG+cFOJrG\nKCJ+KS4O3xKzfj1UVNSn23dfL3A55pjQlpihQ71dr0UkKgpwALZt817feQdO/VZ8yyIiiWvPnqa7\nlLYH7V+ckeFNqw63gm+vXupSEmkHCnAAJk6EJ5+C447z+UFOX1wiia6mBj7/vD5wCQ5iNm0K3Weu\nb18vcDnnnNAupcGD1aUk4jP9C4P66ZDBG721p9qYpiboi69oG2zcALn+PFJE2ujrr8O3xOTney01\ntXJyvMDl6KPh0ktDu5S6do1f+UVSnAIcqF+l80/z4Nzv+Pec4P/ZfbgG/vX/4M3r/XueiERWUeF1\nKdXunxQcyBQV1adLT4chQ8Kv4Nunj1pmRTogBThQvzLnAb39fU5Njb/5i0hjNTWweXP41pjPPgv9\nd9mnjxe4nHlmaJfSkCHeVGwRSRgKcAC67ON1Ix1+uL/PcTWN18FxGpcj0i5KSsJPtc7P99aTqZWd\n7QUt48eHruA7dCh06xa/8otIu1KAU8sB/3gFrrzKv4CjJszyxWVlXh++iDRv715vvapwgczWrfXp\n0tK8gbzhVvDt21f/qRBJAQpwGrrjDrjrrvbLL3jgsqtBSxmLNMM5+OKL8F1Kn34a2qXUq5cXuJx+\nemiX0oEHQqdO8fsMIhJ3CnAaev+D9s3v0ccgHS+u2VPR+HrtAGeRVFNaGr4l5pNPvJbNWl26eEHL\nEUc0XsG3e/f4lV9EOjQFOLFUXUWjFhwNPJZkVlnp7fEWLpAJbt1MS4O8PC9oabiCb79+WmVcRFpM\nAU4sle+GmurQc9XV4dOKJArnvGAlXJfSxo2hf8dzc8Ov3jtkCGRlxe8ziEjSUYBTa+5jMPMyf5+x\nu7zxuAAFOJIodu70ZiSF61LaubM+XVaWNyNp1KjGK/j26BG/8otISlGAU6tn0JLCVZWQ6cP237ff\nDqcfHXpOXVTSkVRVeQN5w3UpffFFfTozbwfrYcNgxozQIGbAAHUpiUjcKcAJZ+s26Ne//fOt2Out\n1RFMLTgSa855U6rDdSlt2BA68L1Hj/Cr9x54oDf4V0Skg1KAE6xnDyjeDv95A8670J9nrFoVWutq\nwRG/lJU13aW0Y0d9uk6dvC6lww7zVvANDmRqV/kWEUkwCnCCnX8ePPB7+Hxz++Tnwizs15BacKQt\nqquhoCB8l1JhYWjagQO9wOWii0K7lAYOrN9wVkQkSSjACTZ0mPe6dCmcfTYMObBt+QXvONwUBTjS\nHOe8jR+b6lLau7c+bffu4VfvPegg2Gef+H0GEZEYU4ATbMCA+uPr/x8sXNi2/CIFOLk94Kvt8MIL\ncNNNbXuOJIfycm9n63CBTPDYrcxML2AZPtxbwTc4kMnN1TYEIiIowAmV3s7VEfw/64Z65gLb4W9/\nU4CTSqqrYdOm8F1KmzaFpu3f3wtcGq7eO2gQZOifrohIJPqW9FNlZf3x4DzYVFD//vDRsKEM3t4U\n3VgdSSzFxeFbYtavh4qgLTv23dcLXBqu3nvQQdqEVUSkDRTg+Cl43ZDPPw+95oBzpsPzv4WVK+Ew\n7amTcPbsabpLafv2+nQZGd606nAr+PbqpS4lERGYCvwWb/fGR4F7Glz/IfA9oArYBswEPouUoQIc\nP731Vv3xsGGwcV39ewPGj/d++c2fD4fNjHnxJAo1NV5wGq5L6bPPQlvf+vb1/pwbrt47eLC6lERE\nmpYOPAicDBQCK4CFwNqgNO8BY4Fy4H+AXwHfiZSpvnUbuvWncPfd7ZPXkUfCvwPHEybCP4MCnMFD\nIKerN9vlhRfg1kvb55nSOl9/Hb4lJj8/dLB4To4XuBx1VOgKvkOHQteucSu+iEgCGw+sBzYG3v8Z\nmEZogPNa0PHbwEXNZaoAp6HxE9ovr/Ly+uN9c2D/XHBF3vu0QLfEWWfB//wPrM+Hvu33aAmjosKb\nVh0ukCkqqk+Xnu5t/hhuBd8+fdSlJCLSQrm5uRnAyqBTjwR+APoBweM4CoFIv4wvA/7R3DMV4Pip\nrCz0/R8fhWfmQFlp/blp0+D734dXFsGlJ8a2fMmopgY2bw7fpVRQELpydJ8+XuBy5pmhXUpDhnhT\nsUVEpF0UFRVV4XUxtdVFgXyOay6hbwGOmQ0AngR64w2pfcQ591szuxc4HdgLbAAudc6VNJ1TAisN\nBDJXXVl/7qijoSZo+vgBB8DRR8MiBTgtsmNH011KwS1n2dle0DJuXOgKvkOHQrdu8Su/iIjU2gwE\nLURH/8C5hk4CfooX3FSEuR7CzxacKuAG59y7ZtYVeMfMXgVeBW52zlWZ2S+Bm4Gf+FiO1ivdAV33\nbf39tfv9dM4CIuw5ddZZMPsG+HIL7N/6xyWdvXth48bwgczWrfXp0tK8gbzhVvDt21ddSiIiHdsK\nYCgwGC+wOQ+4oEGaMcDDeLOtthIF3wIc59wWYEvgeKeZrQP6OecWBSV7G5juVxna7KKL4dlnW79r\ncm0LTufOwO6m09UGOG+/DSOvbDpdMnLOm04frkvp009Dt7Lo1csLXE4/PbRL6cADvQ0jRUQkEVUB\nVwOv4M2omgusAe7CG7ezELgXyAGeC9yzCTgjUqYxGYNjZnl40deyBpdmAs82cc8VwBUAneL5y+s7\n32n9lg07dkBGOqSnQaQtp/LyvNf/exy+Nzc5WxxKS+t3sm4YyASPVerSxQtaxoyB884LDWS6a60g\nEZEk9XLgJ9jtQccntTRD3wMcM8sBXgCud86VBp3/KV7UNi/cfc65uhHW2dnZibnU744dgdabFti9\nO3E3Rays9FpdwnUpffllfTozL6gLt4Jvv35el5OIiEgb+BrgmFkmXnAzzzk3P+j8DOA04ETnEmCf\ngtWrYcSI1t03uoUDWX/yE/jd71r+rFhxzgtWwrXEbNwIVVX1aXNzvcDlm99s3KWUlRW/zyAiIknP\nz1lUBjwGrHPOzQ46PxX4MXCcc668qfs7lNYEOFu2eGNqph/Tsvv2bcOg5va0a1fTXUo7d9any8ry\nZiSNHAnTp4cGMj16xK/8IiKS0vxswZkEXAx8aGarAuduAeYAnYFXvRiIt51zV/lYjrb78ANvPEhL\n/O1vXmvH8OHRpX/4Ybj7Sjiu2an9LffxR94g3NwG56uqvLVhwnUpBe+jZQYDB3qf5bvfDe1SGjBA\nXUoiItLh+DmLainejksNNRxE1HEdfRS8+Za3M3RLLVjgLRjXa3+cizBFvFbnwEDq3RFmW7XWjwOz\n8GfmhAYyGzaE7ni+3371q/cGt8QcdFDrZ5KJiIjEgVYyjmTSN7wAJ72F1bRzJyxeDD/4AeFjvDC6\n7+e9+jkk6fLLvZacoUPhkEPg298ODWRyGzbxiIiIJCYFOJHUzmb6/PPI6Rr65z+9Req+/W1gUbPJ\nvWcFWkjWrIHDDvOCkPawfXv98caNXldTenr75C0iItJBafBEJK3dHXrBAq815Oijo78nKxDg3Hqr\n15rSXlasqD8ePFjBjYiIpAQFOOHUjofp2bPl91ZWwt//7q22m9GCBrJ9Goxx2bwZZs1qe5dV8Iwn\nERGRFKEAJ5yZM73XnJyW3/vGG94Cf9Omtey+rAYBzrnnwp13wtNPt7wMwbZta9v9IiIiCUgBTjhT\npnrbMwSvQhw82yiSBQu8GUcnn9zgQjMtMZmZoe/ffNN7veii6J7blNpNKbt1kPV1REREYkABTrT+\n/EzzaZzzApwpU1q+3YJf+0/VtuBo0T0REUkhCnCac9AQ7/W555tP+8473tiZb3/b3zK1hAIcERFJ\nQQpwmvPzu6NP++KL3qq+p53Wfs9v607qa9Z4rxmZkdOJiIgkEa2D05wuLehqWrDA2x27NbOvwAuQ\nqsfDAQfUn9u7F556CkpLvcUDs7LgscdavrJwR9njSkREJAYU4LREwaeQNyT8tQ0bvE05f/Obtj2j\ne/fG5y65JPT9M8/Au+/CEUd477duhf33j5zvhRe0rVwiIiIJRF1ULXH9/2v62osveq9NTA+Pejmb\nrKzo0tUGNwCvvNJ0ussCU967hQmcREREkpQCnGg8+sfm0yxYAKNHe6sFt1W0O5DXuvLKpq9lZnrb\nYWnHbxERSSH6rReNXr3rj88+q/H1rVvhv/9t+eJ+Tfn4Y+/1qKOiS19e7k0zf/TRxtcqK70Vlf2a\nhi4iItIBKcBpqapqGi3a99JLUFPT/tPDW7oX1uWXNz5XG+CIiIikEAU40Vq4sP54WoNA5sUXvV26\nDz+8fZ+5KMxO5Hl5UF3tlaekpPH1hntPKcAREZEUpACnJUaObHyurMwLRL797fbvBvrOdxqfO+ss\nbzzN6aeHn/odLsBpuA2EiIhIklOA0xI/+1n98aUzvNdFi2DPnvYbfxOsuLjxub5964/DBVT//S/M\nmOGtnVNToxYcERFJSQpwWurQQ7zX7V97rwsWwH77eQv8tZfvf997PeywxtemTg19P2dO6Pt+/eCJ\nJ7y1c0aMgBcXwlbtKC4iIqlFAU5L/e899cd33+0NMD7ttPbtBnrgAW9fq/vvb3ytYdBzzTXw9df1\n77/8sv543TrIzm6/comIiCQIBThtsWwZbN/e/rOnzEIX8mtO9+71wdBPfhJ6rU8f6NbC2VgiIiIJ\nTgFOa7y4IPT9KafEpxzBvvEN73X9+tDzGzbAjp2N04uIiCQxBTit0mBwb06Of49yDnbvhh/+0BtT\n0xQNJBYREamjAKe1/vKs91o7INhPWVnw61/Dhx82nWbAgKavTYpyRWQREZEkof/2t1bnLG+xvdzT\no7wh2t02W6lHj6avders77NFREQ6GLXgJJPp08OfLy+PbTlERETizLcAx8wGmNlrZrbWzNaY2XWB\n8+cE3teY2Vi/np+SgqeI33tv/fHACN1XIiIiScjPFpwq4Abn3KHAROAHZnYosBo4C1ji47NT07Jl\n9cfnnVd/nO3jIGgREZEOyLcAxzm3xTn3buB4J7AO6OecW+ec+9iv56a0ysr6471764+7dIl9WURE\nRKI3FfgYWA/cFOZ6Z+DZwPVlQF5zGcZkDI6Z5QFj8AolfgneK2vw4PrjPzwU+7KIiIhEJx14EPgm\ncChwfuA12GXA18BBwG+AXzaXqe+zqMwsB3gBuN45V9qC+64ArgDo1KmTT6XzbCz5IvjB4GrAArGf\nc/WbWroaQtbAMeOLildb9xxgQ8kXdffv2VOAq6lmy97o82vk0gnwNLBvV/jiX3AI7K7dmzPoWSIi\nktqKdnm/jzaWfEFRlfe74eDex9ApIysexRmP1zKzMfD+z8A0YG1QmmnArMDx88ADeL+Qm5yi7GuA\nY2aZeMHNPOfc/Jbc65x7BHgEIDs725c51hYIXNaXbMbhsEDw4gL1ZVij89Zwkb+vCyM/AwNLIz09\nh/ySzYH36YCx/uvCxveXbG7bh3riVu/1iyVwyznw3HNw4YXec5opq4iIJL+02v/AWzqflX4Jpd4E\nlbweo30LcHJzczOAlUGn6n7HA/2Az4OuFQITGmQRnKYK2AH0BIqaeqZvAY550cNjwDrn3Gy/ntMW\nF437ebyL4K9xwEXxLoSIiKS6oqKiKiCmM6f9HIMzCbgYOMHMVgV+TjWzM82sEDgK+LuZveJjGURE\nRKRj2wwEr2fSP3CuqTQZQDegOFKmvrXgOOeW0mjTpjp/9eu5IiIiklBWAEOBwXiBzHnABQ3SLAS+\nC7wFTAf+TTNbBGirBhEREYmnKuBq4BW8GVVzgTXAXXjjdhbiDXl5Cm8w8na8ICgic87nPZLaQXZ2\ntisrK4t3MURERKQVzKzcOZcdy2dqLyoRERFJOgpwREREJOkowBEREZGkowBHREREko4CHBEREUk6\nCTGLysxqgN3xLgfetPqqeBcizlQHqgNQHYDqAFQHtVQPzddBF+dcTBtVEiLA6SjMbKVzLqZLTXc0\nqgPVAagOQHUAqoNaqoeOWQfqohIREZGkowBHREREko4CnJZ5pPkkSU91oDoA1QGoDkB1UEv10AHr\nQGNwREREJOmoBUdERESSjgIcERERSToJHeCY2QAze83M1prZGjO7LnC+h5m9amb5gdf9AucPNrO3\nzKzCzH7UIK/rzGx1IJ/rIzxzqpl9bGbrzeymMNfnmNmuCPffbWafN0xjZsea2btmVmVm01O0Dq4y\nsw/NbJWZLTWzQ1OwDmaY2bZAHawys++lYB38Jujzf2JmJSlYB4PMbLGZfWBmr5tZ/2SsAzPbx8z+\nbmYfBZ5zT9C1lPhObKYOWvWdmIT10KrvRZxzCfsDHAAcETjuCnwCHAr8CrgpcP4m4JeB417AOOBu\n4EdB+YwAVgP74C1W9C/goDDPSwc2AEOATsD7wKFB18cCTwG7IpR5YqDcuxqczwNGAU8C01O0DvYN\nOj4D+GcK1sEM4IFU/rfQIM01wNxUqwPgOeC7geMTgKeSsQ4C+U8OHHcC/gN8M/A+jxT4TmymDlr1\nnZiE9TCDVnwvJnQLjnNui3Pu3cDxTmAd0A+YBjwRSPYE8O1Amq3OuRVAZYOsDgGWOefKnXNVwBvA\nWWEeOR5Y75zb6JzbC/w58CzMLB24F/hxM2V+2zm3Jcz5AufcB0BN85885L5kqoPSoLfZQFQj4JOp\nDlorievgfOCZZtLU5pdMdXAo8O/A8Wu1+TYn0eogkP9rgeO9wLtA/8D7lPhObKYOWvWdGLg3aeqh\ntRI6wAlmZnnAGGAZ0DvoS+NLoHczt68GjjGznma2D3AqMCBMun7A50HvCwPnAK4GFrbnL62WSoY6\nMLMfmNkGvP9lXNuK+/NI8DoAzg50TTxvZuGeH1GS1AFmNggYTP0v+pbcm0di18H71P8SORPoamY9\nW5JBotWBmXUHTgcWR5M+yjzzSPA6aOt3YiCPPBK8HmjF92JGNIk6OjPLAV4ArnfOlZpZ3TXnnDOz\niFGvc26dmf0SWASUAauA6hY8vy9wDnB8y0vfPpKlDpxzDwIPmtkFwK3Ad1tQhmSog78BzzjnKszs\nSrz/YZ3QgjIkQx3UOg943jkX9fMDZUiGOvgR8ICZzQCWAJtbWIaEqgMzy8BrqZvjnNsY7XOayTMp\n6qAt34mBfJOhHlr1vZjwLThmlon3hzfPOTc/cPorMzsgcP0AYGtz+TjnHnPOHemcOxb4GvjEvEFa\ntYOarsL7kgmOHPsHzo0BDgLWm1kBsE9gkFV60P13tdNHbiRJ6+DPBJpOo5EsdeCcK3bOVQTePgoc\nGWUVJE0dBDmPKLunaiVLHTjnvnDOneWcGwP8NHAu2sHWiVgHjwD5zrn7o/mMzUnSOmjRd2LgcyZF\nPbT6e9G1cNBOR/oBDG8A2v0Nzt9L6CCqXzW4PougQVSBc70CrwOBj4DuYZ6XAWzEazavHUR1WJh0\nTQ4qbC4N8DgtG1CXNHUADA06Ph1YmYJ1cEDQ8ZnA26lWB4FzBwMFBBYjTbU6AHKBtMDx3cBdyVoH\nwM/xfgmnNXH9cZL8O7GpOqCV34lJWA+t+16MtrI64g/wDbxBVx/gNZutwusf7InXd5ePN+K7RyB9\nH7x+wVKgJHC8b+Daf4C1gT+UEyM881S80egbgJ82kSbSH+CvAs+tCbzOCpwfF3hfBhQDa1KwDn4L\nrAl8htfC/eNIgTr430AdvB+og4NTrQ4C12YB96Tw98H0QHk/wfsfa+dkrAO8/+U7vAGwteX9XuBa\nSnwnNlMHrfpOTMJ6aNX3orZqEBERkaST8GNwRERERBpSgCMiIiJJRwGOiIiIJB0FOCIiIpJ0FOCI\niIhI0lGAIyK+MLPqwCJea8zsfTO7wcwifueYWV5gxVYRkTZRgCMiftntnDvcOXcYcDLwTeCOZu7J\nAxTgiEibaR0cEfGFme1yzuUEvR8CrMBbpXcQ8BTeDskAVzvn3jSzt/F2L/4Ub7+ZOcA9ePvYdAYe\ndM49HLMPISIJSwGOiPiiYYATOFcCDAd2AjXOuT1mNhRvI72xZnY83jLxpwXSX4G3TPzPzawz8F/g\nHOfcpzH9MCKScJJiN3ERSTiZeLtlH463M/GwJtKdAowys+mB992AoXgtPCIiTVKAIyIxEeiiqsbb\nvfgO4CtgNN5YwD1N3QZc45x7JSaFFJGkoUHGIuI7M9sfeAh4wHn94t2ALc65GuBiID2QdCfQNejW\nV4D/MbPMQD7DzCwbEZFmqAVHRPzSxcxW4XVHVeENKp4duPZ74AUzuwT4J96O0eDtfFxtZu8Dj+Pt\nppwHvGtmBmwDvh2rDyAiiUuDjEVERCTpqItKREREko4CHBEREUk6CnBEREQk6SjAERERkaSjAEdE\nRESSjgIcERERSToKcERERCTp/H+ihjZ5vFrkrQAAAABJRU5ErkJggg==\n",
            "text/plain": [
              "<Figure size 576x288 with 2 Axes>"
            ]
          },
          "metadata": {
            "tags": []
          }
        }
      ]
    },
    {
      "metadata": {
        "id": "y-0YVd_KURbN",
        "colab_type": "text"
      },
      "cell_type": "markdown",
      "source": [
        "Und stimmt? **Dann haben wir - hochtrabend gesagt - unseren ersten Algorithmus implementiert, der maschinell Manipulationen am Sensor beurteilt**. Auch wenn das noch nicht hochtrabend schlau ist, so ist das doch ein nicht untypischer Fall \"Maschinellen Lernens\" (und fast schon KI ;-)).\n",
        "\n",
        "**Herzlichen Glückwunsch! Wir haben ein IoT-Gerät installiert, die Daten in die Cloud geschickt und nun auch noch \"Data Science\" betrieben!** Damit kann man auf einer Party ruhig mal ein bisschen kokettieren..."
      ]
    }
  ]
}
