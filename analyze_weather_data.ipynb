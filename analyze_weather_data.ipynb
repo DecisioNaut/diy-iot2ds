{
  "nbformat": 4,
  "nbformat_minor": 0,
  "metadata": {
    "colab": {
      "name": "analyze_weather_data.ipynb",
      "version": "0.3.2",
      "provenance": [],
      "collapsed_sections": []
    },
    "kernelspec": {
      "name": "python3",
      "display_name": "Python 3"
    }
  },
  "cells": [
    {
      "metadata": {
        "id": "vs5bjHWkKAB4",
        "colab_type": "text"
      },
      "cell_type": "markdown",
      "source": [
        "# Ein wenig Data Science (Fortsetzung)\n",
        "\n",
        "Mit diesem Notebook können Daten, die im Projekt [\"diy-iot2ds\"](https://github.com/birds-on-mars/diy-iot2ds) entstehen und auf einer Google-Tabelle im GDrive auflaufen,  visualisiert und auf Ausreißer (Outlyer) hin analysiert werden.  \n",
        "\n",
        "Damit das alles funktioniert, bitte in den Google-Account auf dem die Daten auflaufen einloggen und dann den Link \"open in colab\" klicken. Dabei wird man von Google gebeten, die Nutzungsbedingungen zu akzeptieren und die Freigaben zur Nutzung von Colab im entsprechenden Account zu erteilen - ohne das läuft's nicht...  \n",
        "\n",
        "Dann: **Willkommen in Google Colab**, einer erstaunlich vollständigen Umgebung, wie sie viele Data Scientists benutzen. In Google Colab (einem Derivat von dem Open Source-Projekt Jupyter Notebook) lassen sich Programmierung, Kommentierung und Visualisierung miteinander integrieren.  \n",
        "\n",
        "Um von Zelle zu Zelle zu springen (und diese dabei nacheinander auszuführen) `Shift` + `Enter` drücken - aber nur die Ruhe: die eine oder andere Zelle braucht ein wenig Zeit zum Herunterladen, Rechnen etc.\n",
        "\n",
        "In den nächsten beiden Zellen installieren und importieren wir zunächst ein paar Hilfsprogramme, die wir nutzen möchten:"
      ]
    },
    {
      "metadata": {
        "id": "26fImPU-UOZ8",
        "colab_type": "code",
        "colab": {}
      },
      "cell_type": "code",
      "source": [
        "# Install and import library to access gsheets\n",
        "!pip install --upgrade -q gspread\n",
        "import gspread"
      ],
      "execution_count": 0,
      "outputs": []
    },
    {
      "metadata": {
        "id": "lYCJIewoWTgS",
        "colab_type": "code",
        "colab": {}
      },
      "cell_type": "code",
      "source": [
        "# Import libraries authentication and authorization\n",
        "from google.colab import auth\n",
        "from oauth2client.client import GoogleCredentials\n",
        "\n",
        "# Import libraries for data science\n",
        "import datetime as dt\n",
        "import numpy as np\n",
        "import pandas as pd\n",
        "import matplotlib.pyplot as plt"
      ],
      "execution_count": 0,
      "outputs": []
    },
    {
      "metadata": {
        "id": "UovZpI39OD7X",
        "colab_type": "text"
      },
      "cell_type": "markdown",
      "source": [
        "In der nächsten Zelle erlauben wir diesem Notebook, auf die Daten der Google-Tabelle zuzugreifen. Bei der Ausführung erscheint ein blau markierter Link, den wir klicken müssen. Daraufhin öffnet sich ein Fenster, in dem wir nochmals den Account auswählen und bestätigen müssen, und dann ein Fenster in dem wir die Zustimmung erteilen. Dann erscheint ein \"Success Code\", den wir kopieren, dann wieder in dieses Fenster wechseln, den kopieren Code in das kleine Kästchen in der Zelle eintragen und \"Enter drücken\"."
      ]
    },
    {
      "metadata": {
        "id": "HnH9KsppUOZe",
        "colab_type": "code",
        "colab": {}
      },
      "cell_type": "code",
      "source": [
        "auth.authenticate_user()\n",
        "gc = gspread.authorize(GoogleCredentials.get_application_default())"
      ],
      "execution_count": 0,
      "outputs": []
    },
    {
      "metadata": {
        "id": "lZFY4WmMOx6_",
        "colab_type": "text"
      },
      "cell_type": "markdown",
      "source": [
        "Ab hier nun einfach klicken, gucken und ein bisschen freuen...  \n",
        "\n",
        "Jetzt laden wir nämlich die Daten aus unserem Notebook und bringen  sie in die Form, die wir im weiteren brauchen:"
      ]
    },
    {
      "metadata": {
        "id": "7KRRP-rYWlWc",
        "colab_type": "code",
        "colab": {}
      },
      "cell_type": "code",
      "source": [
        "# Access worksheet\n",
        "worksheet = gc.open('diy-iot2ds').sheet1\n",
        "\n",
        "# get_all_values gives a list of rows.\n",
        "rows = worksheet.get_all_values()\n",
        "\n",
        "# Convert to a DataFrame (weather data frame = wdf) and render\n",
        "wdf = pd.DataFrame.from_records(columns=['time', 'temperature', 'pressure', 'humidity'], data=rows[1:])\n",
        "\n",
        "# Sort by time (and drop possible duplicates with regards to time)\n",
        "wdf = wdf.sort_values(by='time')\n",
        "wdf.drop_duplicates(subset='time', inplace=True)\n",
        "\n",
        "# Assert format of wdf\n",
        "wdf.time = pd.to_datetime(wdf.time, dayfirst=True)\n",
        "wdf.temperature = pd.to_numeric(wdf.temperature.str.replace(\",\", \".\"))\n",
        "wdf.pressure = pd.to_numeric(wdf.pressure.str.replace(\",\", \".\"))\n",
        "wdf.humidity = pd.to_numeric(wdf.humidity.str.replace(\",\", \".\"))\n",
        "\n",
        "# Set time as index\n",
        "wdf.set_index('time', inplace=True)"
      ],
      "execution_count": 0,
      "outputs": []
    },
    {
      "metadata": {
        "id": "yNWyRlptPPAI",
        "colab_type": "text"
      },
      "cell_type": "markdown",
      "source": [
        "Jetzt gucken wir mal, ob das ganze gelungen ist:"
      ]
    },
    {
      "metadata": {
        "id": "UGZ03-BuXJNV",
        "colab_type": "code",
        "outputId": "51e44c69-c1aa-430c-b79f-b5f4d9ebd9ee",
        "colab": {
          "base_uri": "https://localhost:8080/",
          "height": 233
        }
      },
      "cell_type": "code",
      "source": [
        "# Check data structure by last 5 entries\n",
        "wdf.tail()"
      ],
      "execution_count": 5,
      "outputs": [
        {
          "output_type": "execute_result",
          "data": {
            "text/html": [
              "<div>\n",
              "<style scoped>\n",
              "    .dataframe tbody tr th:only-of-type {\n",
              "        vertical-align: middle;\n",
              "    }\n",
              "\n",
              "    .dataframe tbody tr th {\n",
              "        vertical-align: top;\n",
              "    }\n",
              "\n",
              "    .dataframe thead th {\n",
              "        text-align: right;\n",
              "    }\n",
              "</style>\n",
              "<table border=\"1\" class=\"dataframe\">\n",
              "  <thead>\n",
              "    <tr style=\"text-align: right;\">\n",
              "      <th></th>\n",
              "      <th>temperature</th>\n",
              "      <th>pressure</th>\n",
              "      <th>humidity</th>\n",
              "    </tr>\n",
              "    <tr>\n",
              "      <th>time</th>\n",
              "      <th></th>\n",
              "      <th></th>\n",
              "      <th></th>\n",
              "    </tr>\n",
              "  </thead>\n",
              "  <tbody>\n",
              "    <tr>\n",
              "      <th>2019-04-24 13:13:31</th>\n",
              "      <td>24.971</td>\n",
              "      <td>1002.556</td>\n",
              "      <td>43.662</td>\n",
              "    </tr>\n",
              "    <tr>\n",
              "      <th>2019-04-24 13:13:43</th>\n",
              "      <td>24.966</td>\n",
              "      <td>1002.547</td>\n",
              "      <td>43.629</td>\n",
              "    </tr>\n",
              "    <tr>\n",
              "      <th>2019-04-24 13:13:54</th>\n",
              "      <td>24.981</td>\n",
              "      <td>1002.626</td>\n",
              "      <td>43.647</td>\n",
              "    </tr>\n",
              "    <tr>\n",
              "      <th>2019-04-24 13:14:05</th>\n",
              "      <td>24.986</td>\n",
              "      <td>1002.634</td>\n",
              "      <td>43.724</td>\n",
              "    </tr>\n",
              "    <tr>\n",
              "      <th>2019-04-24 13:14:17</th>\n",
              "      <td>24.996</td>\n",
              "      <td>1002.625</td>\n",
              "      <td>43.714</td>\n",
              "    </tr>\n",
              "  </tbody>\n",
              "</table>\n",
              "</div>"
            ],
            "text/plain": [
              "                     temperature  pressure  humidity\n",
              "time                                                \n",
              "2019-04-24 13:13:31       24.971  1002.556    43.662\n",
              "2019-04-24 13:13:43       24.966  1002.547    43.629\n",
              "2019-04-24 13:13:54       24.981  1002.626    43.647\n",
              "2019-04-24 13:14:05       24.986  1002.634    43.724\n",
              "2019-04-24 13:14:17       24.996  1002.625    43.714"
            ]
          },
          "metadata": {
            "tags": []
          },
          "execution_count": 5
        }
      ]
    },
    {
      "metadata": {
        "id": "k38ZyN3TPTug",
        "colab_type": "text"
      },
      "cell_type": "markdown",
      "source": [
        "Netter und anschaulicher als eine Tabelle ist aber ja oft eine Grafik:"
      ]
    },
    {
      "metadata": {
        "id": "tjclRYtbXo0s",
        "colab_type": "code",
        "outputId": "eee0a570-e2b5-4098-f38b-ff407ea2eb0f",
        "colab": {
          "base_uri": "https://localhost:8080/",
          "height": 763
        }
      },
      "cell_type": "code",
      "source": [
        "# Print timeline by feature\n",
        "fig, axes = plt.subplots(nrows=3, sharex=True, figsize=(8, 12))\n",
        "\n",
        "fig.suptitle('Timeline by Features', size='x-large')\n",
        "\n",
        "wdf.temperature.plot(ax=axes[0], color='r')\n",
        "axes[0].set_title('Temperature')\n",
        "axes[0].set_ylabel('[°C]')\n",
        "wdf.pressure.plot(ax=axes[1], color='g')\n",
        "axes[1].set_title('Pressure')\n",
        "axes[1].set_ylabel('[mbar]')\n",
        "wdf.humidity.plot(ax=axes[2], color='b')\n",
        "axes[2].set_title('Humidity')\n",
        "axes[2].set_ylabel('[%]')\n",
        "axes[2].set_xlabel('Date')\n",
        "\n",
        "fig.show()"
      ],
      "execution_count": 14,
      "outputs": [
        {
          "output_type": "display_data",
          "data": {
            "image/png": "[encoded data removed]",
            "text/plain": [
              "<Figure size 576x864 with 3 Axes>"
            ]
          },
          "metadata": {
            "tags": []
          }
        }
      ]
    },
    {
      "metadata": {
        "id": "oYdY5093P5gM",
        "colab_type": "text"
      },
      "cell_type": "markdown",
      "source": [
        "Komisches Rauschen, ein paar Zacken, ansonsten ziemlich graduelle Veränderungen... naja, wir zeichnen ja auch alle 10 Sekunden neue Daten auf. Da tut sich nicht sooo viel. Es sei denn... Es sei denn jemand fasst mit seinen warmen Händen den Sensor an, neben dem Sensor geht ein Fenster auf ein deutlich kältere oder wärmere Luft kommt an den Sensor...\n",
        "\n",
        "Dann wird sich die Temperatur in vergleichsweise kurzer Zeit vergleichsweise stark ändern, oder?\n",
        "\n",
        "Dann bauen wir uns doch mal die \"Veränderung je Zeit\" zusammen:"
      ]
    },
    {
      "metadata": {
        "id": "6geaUYQtxhTD",
        "colab_type": "code",
        "outputId": "563c607e-53f4-4f7c-d55d-3269129421f0",
        "colab": {
          "base_uri": "https://localhost:8080/",
          "height": 406
        }
      },
      "cell_type": "code",
      "source": [
        "cwdf = wdf.reset_index()\n",
        "\n",
        "cwdf_this = cwdf.iloc[:-1, :]\n",
        "cwdf_next = cwdf.iloc[1:, :].reset_index(drop=True)\n",
        "\n",
        "cwdf_delta = cwdf_next - cwdf_this\n",
        "\n",
        "cwdf_delta_time = pd.DataFrame((cwdf_delta.time / np.timedelta64(1, 's')).astype(int))\n",
        "cwdf_delta_features = cwdf_delta.loc[:, 'temperature': 'humidity']\n",
        "\n",
        "cwdf_delta.time = cwdf_delta_time\n",
        "cwdf_delta[['temperature', 'pressure', 'humidity']] = cwdf_delta_features\n",
        "\n",
        "cwdf_delta_per_sec = cwdf_delta.div(cwdf_delta.time, axis=0)\n",
        "cwdf_delta_per_sec.drop('time', axis=1, inplace=True)\n",
        "cwdf_delta_per_sec.columns = ['delta_temperature_per_sec', 'delta_pressure_per_sec', 'delta_humidity_per_sec']\n",
        "\n",
        "cwdf_next[['delta_temperature_per_sec', 'delta_pressure_per_sec', 'delta_humidity_per_sec']] = cwdf_delta_per_sec\n",
        "\n",
        "fwdf = cwdf_next.set_index('time')\n",
        "\n",
        "fwdf.tail()"
      ],
      "execution_count": 7,
      "outputs": [
        {
          "output_type": "execute_result",
          "data": {
            "text/html": [
              "<div>\n",
              "<style scoped>\n",
              "    .dataframe tbody tr th:only-of-type {\n",
              "        vertical-align: middle;\n",
              "    }\n",
              "\n",
              "    .dataframe tbody tr th {\n",
              "        vertical-align: top;\n",
              "    }\n",
              "\n",
              "    .dataframe thead th {\n",
              "        text-align: right;\n",
              "    }\n",
              "</style>\n",
              "<table border=\"1\" class=\"dataframe\">\n",
              "  <thead>\n",
              "    <tr style=\"text-align: right;\">\n",
              "      <th></th>\n",
              "      <th>temperature</th>\n",
              "      <th>pressure</th>\n",
              "      <th>humidity</th>\n",
              "      <th>delta_temperature_per_sec</th>\n",
              "      <th>delta_pressure_per_sec</th>\n",
              "      <th>delta_humidity_per_sec</th>\n",
              "    </tr>\n",
              "    <tr>\n",
              "      <th>time</th>\n",
              "      <th></th>\n",
              "      <th></th>\n",
              "      <th></th>\n",
              "      <th></th>\n",
              "      <th></th>\n",
              "      <th></th>\n",
              "    </tr>\n",
              "  </thead>\n",
              "  <tbody>\n",
              "    <tr>\n",
              "      <th>2019-04-24 13:13:31</th>\n",
              "      <td>24.971</td>\n",
              "      <td>1002.556</td>\n",
              "      <td>43.662</td>\n",
              "      <td>0.000455</td>\n",
              "      <td>-0.004000</td>\n",
              "      <td>0.004000</td>\n",
              "    </tr>\n",
              "    <tr>\n",
              "      <th>2019-04-24 13:13:43</th>\n",
              "      <td>24.966</td>\n",
              "      <td>1002.547</td>\n",
              "      <td>43.629</td>\n",
              "      <td>-0.000417</td>\n",
              "      <td>-0.000750</td>\n",
              "      <td>-0.002750</td>\n",
              "    </tr>\n",
              "    <tr>\n",
              "      <th>2019-04-24 13:13:54</th>\n",
              "      <td>24.981</td>\n",
              "      <td>1002.626</td>\n",
              "      <td>43.647</td>\n",
              "      <td>0.001364</td>\n",
              "      <td>0.007182</td>\n",
              "      <td>0.001636</td>\n",
              "    </tr>\n",
              "    <tr>\n",
              "      <th>2019-04-24 13:14:05</th>\n",
              "      <td>24.986</td>\n",
              "      <td>1002.634</td>\n",
              "      <td>43.724</td>\n",
              "      <td>0.000455</td>\n",
              "      <td>0.000727</td>\n",
              "      <td>0.007000</td>\n",
              "    </tr>\n",
              "    <tr>\n",
              "      <th>2019-04-24 13:14:17</th>\n",
              "      <td>24.996</td>\n",
              "      <td>1002.625</td>\n",
              "      <td>43.714</td>\n",
              "      <td>0.000833</td>\n",
              "      <td>-0.000750</td>\n",
              "      <td>-0.000833</td>\n",
              "    </tr>\n",
              "  </tbody>\n",
              "</table>\n",
              "</div>"
            ],
            "text/plain": [
              "                     temperature  pressure  humidity  \\\n",
              "time                                                   \n",
              "2019-04-24 13:13:31       24.971  1002.556    43.662   \n",
              "2019-04-24 13:13:43       24.966  1002.547    43.629   \n",
              "2019-04-24 13:13:54       24.981  1002.626    43.647   \n",
              "2019-04-24 13:14:05       24.986  1002.634    43.724   \n",
              "2019-04-24 13:14:17       24.996  1002.625    43.714   \n",
              "\n",
              "                     delta_temperature_per_sec  delta_pressure_per_sec  \\\n",
              "time                                                                     \n",
              "2019-04-24 13:13:31                   0.000455               -0.004000   \n",
              "2019-04-24 13:13:43                  -0.000417               -0.000750   \n",
              "2019-04-24 13:13:54                   0.001364                0.007182   \n",
              "2019-04-24 13:14:05                   0.000455                0.000727   \n",
              "2019-04-24 13:14:17                   0.000833               -0.000750   \n",
              "\n",
              "                     delta_humidity_per_sec  \n",
              "time                                         \n",
              "2019-04-24 13:13:31                0.004000  \n",
              "2019-04-24 13:13:43               -0.002750  \n",
              "2019-04-24 13:13:54                0.001636  \n",
              "2019-04-24 13:14:05                0.007000  \n",
              "2019-04-24 13:14:17               -0.000833  "
            ]
          },
          "metadata": {
            "tags": []
          },
          "execution_count": 7
        }
      ]
    },
    {
      "metadata": {
        "id": "XCKoi8wQQyJ8",
        "colab_type": "text"
      },
      "cell_type": "markdown",
      "source": [
        "Nun gucken wir uns die \"Veränderung je Zeit\" mal grafisch an:"
      ]
    },
    {
      "metadata": {
        "id": "icEhCdhe3f3q",
        "colab_type": "code",
        "outputId": "0bc65d08-86a1-41e9-d9b2-a731b1e762b5",
        "colab": {
          "base_uri": "https://localhost:8080/",
          "height": 763
        }
      },
      "cell_type": "code",
      "source": [
        "# Print timeline by feature\n",
        "fig, axes = plt.subplots(nrows=3, sharex=True, figsize=(8, 12))\n",
        "\n",
        "fig.suptitle('Timeline by Change in Features per Second', size='x-large')\n",
        "\n",
        "fwdf.delta_temperature_per_sec.plot(ax=axes[0], color='r')\n",
        "axes[0].set_title('Delta Temperature p. Sec.')\n",
        "axes[0].set_ylabel('[°C/sec]')\n",
        "fwdf.delta_pressure_per_sec.plot(ax=axes[1], color='g')\n",
        "axes[1].set_title('Delta Pressure p. Sec.')\n",
        "axes[1].set_ylabel('[mbar/sec]')\n",
        "fwdf.delta_humidity_per_sec.plot(ax=axes[2], color='b')\n",
        "axes[2].set_title('Delta Humidity per. Sec.')\n",
        "axes[2].set_ylabel('[%/sec]')\n",
        "axes[2].set_xlabel('Date')\n",
        "\n",
        "fig.show()"
      ],
      "execution_count": 13,
      "outputs": [
        {
          "output_type": "display_data",
          "data": {
            "image/png": "[encoded data removed]",
            "text/plain": [
              "<Figure size 576x864 with 3 Axes>"
            ]
          },
          "metadata": {
            "tags": []
          }
        }
      ]
    },
    {
      "metadata": {
        "id": "mqw9Pe_HRMLe",
        "colab_type": "text"
      },
      "cell_type": "markdown",
      "source": [
        "Wenn das jetzt alles nur nach Rauschen aussieht, dann gehen wir mal zu unserem Sensor und nehmen ihn mal für eine halbe Minute in die Hände. Danach führen dieses Schritte nochmals von oben aus.\n",
        "\n",
        "Und, sieht's jetzt anders aus? Zumindest grafisch scheint man sehen zu können, wenn jemand den Sensor manipuliert.\n",
        "\n",
        "Dieses Sehen der seltsamen Bewegung fällt uns Menschen leicht, einem Computer müssen wir es beibringen:  \n",
        "wir machen dazu eine ganz einfache Ausreißer-Detektion (Outlier-Detection): eine Veränderung die z.B. 5-mal so hoch ist, wie 95% aller Bewegungen liegt wird als  wahrscheinlich \"nicht normal\" zustande gekommen angenommen.\n",
        "\n",
        "Folgender Code identifiziert das (für die Temperatur) und markiert die Bereiche in der Grafik:"
      ]
    },
    {
      "metadata": {
        "id": "vJBjSZ1bYmxK",
        "colab_type": "code",
        "colab": {
          "base_uri": "https://localhost:8080/",
          "height": 297
        },
        "outputId": "3ac8d766-4520-4007-bffe-3fe3e5fb7df7"
      },
      "cell_type": "code",
      "source": [
        "# Create a dataframe containing the infos to print\n",
        "pdf = pd.DataFrame(fwdf[['temperature', 'delta_temperature_per_sec']])\n",
        "pdf['abs_delta_temperature_per_sec'] = pdf['delta_temperature_per_sec'].abs()\n",
        "pdf['upper_5pct'] = (pdf['abs_delta_temperature_per_sec'].rank(pct=True) > 0.95)\n",
        "pdf['possible_outlier'] = (pdf['abs_delta_temperature_per_sec'] > 5 * pdf[pdf['upper_5pct']]['abs_delta_temperature_per_sec'].min())\n",
        "\n",
        "# Plotting temperature with markes for upper 5% and outliers\n",
        "fig, ax1 = plt.subplots(figsize=(8, 4))\n",
        "ax1.set_xlabel('Date')\n",
        "ax1.set_ylabel('Temp [°C]')\n",
        "ax1.plot(pdf['temperature'], color='r')\n",
        "ax1.legend(loc=9)\n",
        "ax2 = ax1.twinx()\n",
        "ax2.fill(pdf['upper_5pct'], color='y', alpha=0.3)\n",
        "ax2.fill(pdf['possible_outlier'], color='g', alpha=0.3)\n",
        "ax2.tick_params(axis='y', color='w', labelcolor='w')\n",
        "ax2.legend(loc=1)\n",
        "fig.tight_layout()\n",
        "plt.show()"
      ],
      "execution_count": 9,
      "outputs": [
        {
          "output_type": "display_data",
          "data": {
            "image/png": "[encoded data removed]",
            "text/plain": [
              "<Figure size 576x288 with 2 Axes>"
            ]
          },
          "metadata": {
            "tags": []
          }
        }
      ]
    },
    {
      "metadata": {
        "id": "y-0YVd_KURbN",
        "colab_type": "text"
      },
      "cell_type": "markdown",
      "source": [
        "Und stimmt? **Dann haben wir - hochtrabend gesagt - unseren ersten Algorithmus implementiert, der maschinell Manipulationen am Sensor beurteilt**. Auch wenn das noch nicht hochtrabend schlau ist, so ist das doch ein nicht untypischer Fall \"Maschinellen Lernens\" (und fast schon KI ;-)).\n",
        "\n",
        "**Herzlichen Glückwunsch! Wir haben ein IoT-Gerät installiert, die Daten in die Cloud geschickt und nun auch noch \"Data Science\" betrieben!** Damit kann man auf einer Party ruhig mal ein bisschen kokettieren..."
      ]
    }
  ]
}