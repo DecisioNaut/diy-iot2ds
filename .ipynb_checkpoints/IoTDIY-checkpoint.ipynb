{
 "cells": [
  {
   "cell_type": "markdown",
   "metadata": {},
   "source": [
    "# Do It Yourself End-to-End-IoT with a Raspberry Pi and the Cloud"
   ]
  },
  {
   "cell_type": "markdown",
   "metadata": {
    "toc-hr-collapsed": false
   },
   "source": [
    "## The Task\n",
    "\n",
    "Im Rahmen eines zweitägigen Seminars (+ Vorabend) bei der DB Akademie unter dem Arbeits-Titel **\"Intensivkurs Digitalisierung – Technologie & Daten\"** sollen - neben theorielastigeren Teilen - durch insgesamt **2 bis maximal 3 Stunden \"Praxis\"** anschaulich und interaktiv die Inhalte der Schlagworte\n",
    "- Internet of Things (IoT)\n",
    "- Cloud und\n",
    "- Data Science/KI  \n",
    "\n",
    "vermittelt werden.  \n",
    "\n",
    "Nachstehende Ausführungen dazu decken zunächst folgendes ab:\n",
    "1. Beschreibung und (zeitliche Unter-)Gliederung des **Grobkonzept**s\n",
    "2. **Abschätzung des Aufwandes** zur Vorbereitung der entsprechenden Seminarteilstrecke(n)  \n",
    "\n",
    "Der Kurs soll **für die Breite der Führungskräfte der DB** angeboten werden. Besondere Fachkenntnisse, insbesondere hinsichtlich Programmierung und Engineering, können also nicht vorausgesetzt werden.  \n",
    "\n",
    "Der Kurs soll **erstmalig am 17. Mai 2019** beginnen. Eine Arbeitsversion einer Agenda für den Kurs findet sich [hier](https://docs.google.com/document/d/1JDCKBL0fwGoR-F2EvvjdeVVVtkZTe7X0AKr_TEFuS6c/edit?ts=5c766d7d&skip_itp2_check=true#heading=h.1tn34bkfheu). Der genaue Ablauf (auch hinsichtlich des \"Praxis-Teils\") ist noch anpassbar.\n",
    "\n",
    "*Da die DB breit Cloud-Lösungen von AWS verwendet, soll im Laufe des Kurses auch die Verwendung der AWS-Cloud vertieft werden.*\n",
    "\n",
    "In die Entwicklung des Kurses sind seitens Birds on Mars \n",
    "\n",
    "- Klaas Bollhöfer, \n",
    "- Dr. Hartmut Wilke und \n",
    "- (speziell auch für diesen Teil) Bastian Kachel eingebunden. \n",
    "\n",
    "Am 27. Februar 2019 hat Klaas Bollhöfer Caspar Heidbrink um Unterstützung in der Konzeptionierung des Teils gebeten."
   ]
  },
  {
   "cell_type": "markdown",
   "metadata": {},
   "source": [
    "## The Basic Idea\n",
    "\n",
    "Die erste seitens Birds on Mars entwickelte Idee ist es, eine **einfache \"End-to-End-Strecke von IoT bis Machine Learning\"** aufzubauen. Sie sieht den Nachvollzug von IoT, Datensammlung/-bereitstellung in der Cloud und anschießende Auswertung anhand eines **Raspberry Pi** vor, der Sensordaten (bspw. Wetterdaten) in die Cloud pusht, die anschließend grob analysiert/visualisiert werden und (bzw. anhand von Outlyer-Detection als Machine Learning-Algorithmus) maschinell genutzt werden.  \n",
    "\n",
    "Auf Anregung von Caspar Heidbrink wird dabei **auch überlegt**, ob und inwiefern die \"End-to-End-Strecke\" durch Einsatz und Verwendung von frei verfügbaren Ressourcen die Bearbeitung noch stärker einen **\"Bastler-Charakter\"** bekommen kann und wie dadurch die Begriffe noch stärker \"demystifiziert\" werden können (gemäß dem Anspruch an den Workshop **\"down-to-earth\"** zu sein). In Frage kommen dazu bspw. die **Ressourcen eines kostenlosen Google-Accounts** (Google-Drive als Cloud, Google Data Studio als Dashboard Visualisierungslösung, Google Colab als interaktive Programmierumgebung), in dem die Daten des Raspberry abgelegt werden.  \n",
    "\n",
    "**Parallel** sollen im Rahmen des Kurses und ggf. auch im Rahmen des Praxisteils **unternehmensfähige Lösungen unter Verwendung der AWS-Cloud** gezeigt und erläutert werden. Dazu ist es nach erster Einschätzung entweder möglich,\n",
    "\n",
    "1. die gesamte Lösung der End-to-End-Strecke über die AWS-Cloud zu realisieren,\n",
    "2. eine Lösung der End-to-End-Strecke parallel zu einer \"Bastler-Lösung\" aufzubauen und zu präsentieren oder\n",
    "3. im Anschluss an die Entwicklung einer \"Bastler-Lösung\" eine bereits bei der DB implemtierte Lösung und deren Entwicklung vorzustellen oder durch jemanden aus einem solchen DB-Projekt selbst vorstellen zu lassen.  \n",
    "\n",
    "Zur Realisierung von 3. bietet es sich z.B. an, die **Entwicklung der Digitalisierung der Aufzüge und Fahrtreppen (Projekt \"ADAM\")** bei der DB Station&Service AG vorzustellen. Zu diesem Projekt bestehen über Caspar Heidbrink sehr gute persönliche Kontakte und hier wurden zunächst die Anlagen mit eigens entwickelten Bausteinen ausgerüstet über die die Daten nun in die AWS-Cloud laufen. Weiterhin gab es Aktivitäten hierzu Dashboards bereitzustellen und auch erste Schritte in Richtung \"predictive maintenance\" umzusetzen. Es gibt also ein gutes Beispiel aus der DB für eine \"End-to-End-Strecke\"."
   ]
  },
  {
   "cell_type": "markdown",
   "metadata": {
    "toc-hr-collapsed": false
   },
   "source": [
    "## The Proposal"
   ]
  },
  {
   "cell_type": "markdown",
   "metadata": {},
   "source": [
    "### Rough draft\n",
    "\n",
    "Ein \"Aha-Effekt\" kann bei der heterogenen und voraussichtlich technisch großteils wenige vorgebildeten Zielgruppe dadurch erreicht werden, dass gezeigt wird, dass sich die anspruchsvoll klingenden Themen IoT, Cloud und Data Science \"für den einfachen Hausgebrauch\" bereits mit geringen finanziellen Mitteln und mit frei zugänglichen Ressourcen der Cloud und der Open Source-Community realisieren lassen. Ein gut aufgesetztes Live-Coding mit klar abgegrenzten und kontrollierbaren \"Mitmach-Anteilen\" im \"Hobbythek-Charakter\" (*\"Ich hab da mal was vorbereitet\"*) kann der Zielgruppe die Realisierbarkeit entsprechender Projekte demonstrieren. \n",
    "\n",
    "Gleichzeitig sollte dennoch deutlich werden, dass Lösungen im Unternehmenskontext insbesondere hinsichtlich Security und Compliance natürlich höheren, aber dennoch erfüllbaren Anforderungen entsprechen muss. Hierfür halte ich ein konkretes DB-Projekt und einen entsprechenden Erfahrungsbericht für die Zielgruppe für sehr gut geeignet (z.B. durch ADAM/Digitalisierung Aufzüge/Fahrtreffen bei DB Station&Service, Kontakt zu bekanntem Verantwortlichen bereits aufgenommen).\n",
    "\n",
    "Daher halte ich es für sinnvoll, für den **Praxisteil einen echten \"low-key\"-Ansatz mit einem \"Heimanwendungsfall\"** zu fahren.  \n",
    "\n",
    "Als Anwendungsfall bietet sich der [**Aufbau eine Wetterstation**](https://tutorials-raspberrypi.de/raspberry-pi-projekte-fuer-anfaenger-zum-nachbauen/#raspberry-pi-wetterstation) an, was ein \n",
    "\n",
    "- beliebtes (und wiederholt beschriebenes) Raspberry Pi-Projekt, \n",
    "- für die Teilnehmer gut nachvollziehbar und \n",
    "- datenschutz-technisch unverdächtig \n",
    "\n",
    "ist. Über die Art und Anzahl der zu verwendenden Sensoren kann noch entschieden werden, es wäre jedoch eindrucksvoller und für den weiteren Prozess interessanter, wenn mehrere unterschiedliche Daten erzeugt werden. Folgende **Sensorik** steht bspw. **zur Auswahl**:\n",
    "\n",
    "- Temperatur\n",
    "- Luftfeuchtigkeit\n",
    "- Luftdruck\n",
    "- Helligkeit\n",
    "- Ort/GSP\n",
    "- Erdfeuchtigkeit\n",
    "- ...\n",
    "\n",
    "(für diese und weitere Möglichkeiten siehe auch [hier](https://tutorials-raspberrypi.de/raspberry-pi-sensoren-uebersicht-die-50-wichtigsten-module/#temperature)).\n",
    "\n",
    "\n",
    "Die Daten lassen sich (je nach technischen Gegebenheiten per LAN, WLAN oder mobil und/oder über einen angeschlossenen PC) auf einen dafür erzeugten **Google-Account** bzw. dort auf **Google Drive** (als csv oder aber auch als gsheet) pushen. Anteilungen zu beidem sind nach ersten Recherchen im Netz zu finden (s. [hier](https://www.hackster.io/uladzislau-bayouski/rclone-the-cloud-connected-048422) bzw. [hier](http://www.whatimade.today/log-sensor-data-straight-to-google-sheets-from-a-raspberry-pi-zero-all-the-python-code/)).  \n",
    "\n",
    "Ausgehend von den Daten auf Google Drive liesse sich dann ein Dashboard für die Daten mit [**Google Datastudio**](https://support.google.com/datastudio/answer/6390659?hl=de) aufbauen/präsentieren.\n",
    "\n",
    "Mit Hilfe von [**Google Colab**](https://towardsdatascience.com/getting-started-with-google-colab-f2fff97f594c) ließen sich weiterhin Machine Learning-Algorithmen auf die gesammelten Daten anwenden. Ähnliche Projekte für die Anwendung von Machine Learning auf Raspberry Pi-Wetterdaten sind [hier](https://www.ncbi.nlm.nih.gov/pmc/articles/PMC4721761/) und [hier](https://github.com/Joy57/WSU-RaspberryPi-WeatherStation) beschrieben. Falls nicht nur einfachste Use-Cases (z.B. heizt jemand den Sensor gerade auf; Outlyer-Detection) vorgestellt werden sollen), sondern ggf. sogar etwas prädiktives, wären im Vorfeld Daten zu sammeln oder andere Quellen anzuzapfen und zu benutzen.\n",
    "\n",
    "Ein grobe **Ablauf im Workshop** könnte folgendermaßen aussehen, wobei Unterbrechungen oder Pausen zwischen den Abschnitten möglich sind:\n",
    "\n",
    "| Abschnitt | grober Inhalt | grober Zeitbedarf |\n",
    "|:---|:---|---:|\n",
    "| **Vorstellung Praxisprojekt** | 2-3 Slides + Zeigen Github-Repo für das Projekt | 15 min |\n",
    "| **Zusammenbau und Aktivierung Raspberry und Sensoren** | 2 (betreute) Gruppen bauen jeweils einen Raspberry und die Sensoren zusammen, Programmierung wird gezeigt und erläutert und in den Raspberry gesteckt, dazu zwei (vorkonfigurierte) Google-Accounts wg. Berechtigungen erforderlich | 45 min |\n",
    "| **Aufbau Datenanalyse und -visualisierung** | Ansicht Rohdaten, \"Life-Coding\" durch Trainer zum Aufbau des Google Datastudio als Dashboard bzw. Erläuterung vorbereitetes Dashboard | 45 min |\n",
    "| **Machine Learning mit Wetterdaten** | Gemeinsame Überlegung, was aus den Daten gelernt werden kann. \"Life-Coding\" durch Trainer in Google Colab (ggf. mit Snippets) oder Erläuterung und Durchführung vorbereitetes Notebook | 45 min |\n",
    "\n",
    "\n",
    "\n",
    "\n",
    "\n",
    "Das **DB-Anwendungsbeispiel (bspw. ADAM) ist danach und separat vorzustellen (ca. 1h)**. Inhalte z.B.: \n",
    "\n",
    "- Wie wurde IoT/Sensorik realisiert? \n",
    "- Wie wurde der Datenfluss organisiert und wo liegen die Daten jetzt?\n",
    "- Was wurde experimentell mit den Daten gemacht und wie werden die Daten aktuell eingesetzt?\n",
    "- Welche Herausforderungen gab es, welches Lessons learned haben sich ergeben? Wie sah und sieht es mit Security-Aspekten aus?"
   ]
  },
  {
   "cell_type": "markdown",
   "metadata": {},
   "source": [
    "### Next steps\n",
    "\n",
    "Zur Vorbereitung des Praxis-Teils (und des DB-Anwendungsbeispiels) sind in etwa 10 Beratertage und die Anschaffung von 3 Raspberry Pis (zzg. Sensorik) (für max 200 EUR) erforderlich:\n",
    "\n",
    "| Inhalt | # Beratertage |\n",
    "| :--- | ---: |\n",
    "| Beschaffung **3 Raspberry Pis** (2 für Session, 1 als bereits konfiguriertes Backup) und Aufbau zielführende Programmierung | 2-3 |\n",
    "| Aufbau, Dokumentation und Herstellung der Reproduzierbarkeit der **Datenstrecke** zu 2 dazu geschaffenen Google-Accounts | 2-3 |\n",
    "| Datensammlung | |\n",
    "| Aufbau, Dokumentation und Herstellung der Reproduzierbarkeit der **Google Datastudio Dashboards** | 2-3 |\n",
    "| Aufbau, Dokumentation und Herstellung der Reproduzierbarkeit der **Google Colab-Notebooks** | 2-3 |\n",
    "| Unterstützung bei der Entwicklung einer **Präsentation des DB-Usecases** inkl. Kontaktaufnahme etc. | 2-3 |\n",
    "\n",
    "Um allen Code zu Sammeln und Zugänglich zu machen, bietet sich die Verwendung eines Github-Repos an."
   ]
  },
  {
   "cell_type": "code",
   "execution_count": null,
   "metadata": {},
   "outputs": [],
   "source": []
  }
 ],
 "metadata": {
  "kernelspec": {
   "display_name": "Python 3",
   "language": "python",
   "name": "python3"
  },
  "language_info": {
   "codemirror_mode": {
    "name": "ipython",
    "version": 3
   },
   "file_extension": ".py",
   "mimetype": "text/x-python",
   "name": "python",
   "nbconvert_exporter": "python",
   "pygments_lexer": "ipython3",
   "version": "3.6.8"
  },
  "latex_envs": {
   "LaTeX_envs_menu_present": true,
   "autoclose": false,
   "autocomplete": true,
   "bibliofile": "biblio.bib",
   "cite_by": "apalike",
   "current_citInitial": 1,
   "eqLabelWithNumbers": true,
   "eqNumInitial": 1,
   "hotkeys": {
    "equation": "Ctrl-E",
    "itemize": "Ctrl-I"
   },
   "labels_anchors": false,
   "latex_user_defs": false,
   "report_style_numbering": false,
   "user_envs_cfg": false
  }
 },
 "nbformat": 4,
 "nbformat_minor": 2
}
