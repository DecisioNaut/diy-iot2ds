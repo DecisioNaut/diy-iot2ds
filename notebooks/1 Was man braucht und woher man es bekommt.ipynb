{
 "cells": [
  {
   "cell_type": "markdown",
   "metadata": {},
   "source": [
    "# Was man braucht und woher man es bekommt!\n",
    "\n",
    "Bevor man loslegen kann, gibt's schon ein paar Werkzeuge, die gebraucht werden. Hier wird genau aufgelistet, was benötigt wird und woher man es z.B. bekommen kann.\n",
    "\n",
    "## Grundvoraussetzungen\n",
    "\n",
    "Um mit dem Raspberry Pi und der Google Cloud kommunizieren zu können, brauchen wir zunächst einfach nur einen Computer und einen Internetzugang. Wir gehen mal davon aus, dass das vorhanden ist, wenn dieses hier gelesen werden kann.\n",
    "\n",
    "## Eine kleine Einkaufsliste\n",
    "\n",
    "- Einen Google-Account gibt's umsonst und vielleicht ist schon einer vorhanden. Da das Projekt allerdings nicht für Sicherheitsaspekte optimiert ist, empfehlen wir einen separaten Account anzulegen, der später ggf. auch gelöscht werden kann. Dies zeigen wir im folgenden.\n",
    "\n",
    "## Einen neuen Google Account erzeugen (und wie er gelöscht werden kann)\n",
    "\n",
    "Einen "
   ]
  },
  {
   "cell_type": "code",
   "execution_count": null,
   "metadata": {},
   "outputs": [],
   "source": []
  }
 ],
 "metadata": {
  "kernelspec": {
   "display_name": "Python 3",
   "language": "python",
   "name": "python3"
  },
  "language_info": {
   "codemirror_mode": {
    "name": "ipython",
    "version": 3
   },
   "file_extension": ".py",
   "mimetype": "text/x-python",
   "name": "python",
   "nbconvert_exporter": "python",
   "pygments_lexer": "ipython3",
   "version": "3.6.8"
  }
 },
 "nbformat": 4,
 "nbformat_minor": 2
}
