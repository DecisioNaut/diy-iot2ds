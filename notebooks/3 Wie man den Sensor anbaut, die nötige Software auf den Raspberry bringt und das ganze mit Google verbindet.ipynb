{
 "cells": [
  {
   "cell_type": "markdown",
   "metadata": {},
   "source": [
    "# Wie man den Sensor anbaut, die nötige Software auf den Raspberry bringt und das ganze mit Google verbindet!\n",
    "\n",
    "## Setup für die Verbindung mit Google (und ab in die Wolke)\n",
    "\n",
    "Zunächst bleiben wir mal auf dem Raspberry und loggen uns in unseren Account ein (s. 1.):\n",
    "\n",
    "Nun basteln wir uns die Google Tabelle, in die wir später die Daten pushen. Wohlgemerkt liegen diese Tabelle und später die Daten in der Google-Cloud. D.h. wir können von überall und jederzeit darauf zugreifen.  \n",
    "\n",
    "Erstmal suchen wir nach \"Google Tabellen\" (ist der kürzeste Weg...) und klicken den ersten Link:\n",
    "\n",
    "Dann wechseln wir in die Cloud-Applikation:\n",
    "\n",
    "Wir übergehen mal die Tour...\n",
    "\n",
    "... und legen gleich mit einer neuen leeren Tabelle los:\n",
    "\n",
    "Wir benennen die Tabelle sprechend mit \"diy-iot2ds\":\n",
    "\n",
    "Bennen den Tabellenreiter mit \"Daten\":\n",
    "\n",
    "Und bennen die Spalten A bis D in der Zeile 1 mit \"Zeit\", \"Temperatur\", \"Luftdruck\" und \"Luftfeuchtigkeit\":\n",
    "\n",
    "So, jetzt wird ein wenig sportlicher: wir erzeugen einen Schlüssel mit dem wir später auf die Google-Tabelle automatisch/\"von außen\" zugreifen dürfen. Dazu wechseln wir zu [GoogleAPIs](https://console.developers.google.com) und akzeptieren die entsprechenden Nutzungsbedingungen:\n",
    "\n",
    "Dann suchen wir in der Bibliothek des \"Google Sheets API\" und aktivieren sie:\n",
    "\n",
    "Anschließend erstellen wir das \"Projekt\", das diesen Zugriff nutzen soll. Natürlich soll es \"diy-iot2ds\" heißen:\n",
    "\n",
    "Nun müssen wir das ganze \"final\" aktivieren:\n",
    "\n",
    "Aber ohne Zugriffsdaten (sogenannte credentials geht natürlich und glücklicherweise nichts). Auf den nächsten Screens können wir sie uns besorgen und müssen sie anschließen spezifizieren \n",
    "\n",
    "- Verwendung der \"Google Sheets API\" \n",
    "- über \"Andere Nicht-Benutzeroberfläche\" \n",
    "- mit Zugriff auf die \"Anwendungsdaten\", \n",
    "- wobei wir keine App Engine oder Compute Engine verwenden (\"Nein, ich verwende sie nicht\")\n",
    "\n",
    "und dann die Anmeldedaten festlegen:\n",
    "\n",
    "- \"Name des Dienstkontos\" gerne mal wieder als \"diy-iot2ds\" mit der\n",
    "- \"Rolle\" \"Bearbeiter\" (aus dem Untermenü \"Projekt\" mit dem\n",
    "- \"Schlüsseltyp\" \"JSON\"\n",
    "\n",
    "Der erforderliche \"Schlüssel\" (eine Datei im sog. \"JSON\"-Format wurde automatisch heruntergeladen und liegt im Ordner \"Downloads\" des Raspberry.\n",
    "\n",
    "\n",
    "\n",
    "\n",
    "\n",
    "## Anschließen des Sensors\n",
    "\n",
    "Bevor wir den Sensor anschließen, sollte sichergestellt sein, dass der Raspberry nicht am Stromnetz hängt - ist besser für Mensch <u>und</u> Maschine...  \n",
    "Der Sensor, den wir hier vorliegen haben, besteht eigentlich aus zwei Teilen. ...\n",
    "\n",
    "## Download und Konfiguration der Software\n",
    "\n",
    "Die Software \n",
    "\n",
    "## ... Run!"
   ]
  },
  {
   "cell_type": "code",
   "execution_count": null,
   "metadata": {},
   "outputs": [],
   "source": []
  },
  {
   "cell_type": "code",
   "execution_count": null,
   "metadata": {},
   "outputs": [],
   "source": []
  }
 ],
 "metadata": {
  "kernelspec": {
   "display_name": "Python 3",
   "language": "python",
   "name": "python3"
  },
  "language_info": {
   "codemirror_mode": {
    "name": "ipython",
    "version": 3
   },
   "file_extension": ".py",
   "mimetype": "text/x-python",
   "name": "python",
   "nbconvert_exporter": "python",
   "pygments_lexer": "ipython3",
   "version": "3.6.8"
  }
 },
 "nbformat": 4,
 "nbformat_minor": 2
}
