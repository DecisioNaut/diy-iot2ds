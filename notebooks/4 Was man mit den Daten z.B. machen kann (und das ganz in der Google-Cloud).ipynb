{
 "cells": [
  {
   "cell_type": "markdown",
   "metadata": {},
   "source": [
    "# Was man mit den Daten z.B. machen kann (und das Ganze in der Google-Cloud)!\n",
    "\n",
    "## Erster Blick auf die Daten\n",
    "\n",
    "## Erste Visualisierung in Google Sheets\n",
    "\n",
    "## Daten-Analyse mit Google Colab"
   ]
  },
  {
   "cell_type": "code",
   "execution_count": null,
   "metadata": {},
   "outputs": [],
   "source": []
  }
 ],
 "metadata": {
  "kernelspec": {
   "display_name": "Python 3",
   "language": "python",
   "name": "python3"
  },
  "language_info": {
   "codemirror_mode": {
    "name": "ipython",
    "version": 3
   },
   "file_extension": ".py",
   "mimetype": "text/x-python",
   "name": "python",
   "nbconvert_exporter": "python",
   "pygments_lexer": "ipython3",
   "version": "3.6.8"
  }
 },
 "nbformat": 4,
 "nbformat_minor": 2
}
