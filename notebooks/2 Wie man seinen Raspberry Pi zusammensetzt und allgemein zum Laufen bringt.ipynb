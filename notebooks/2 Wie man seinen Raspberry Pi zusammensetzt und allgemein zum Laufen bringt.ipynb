{
 "cells": [
  {
   "cell_type": "markdown",
   "metadata": {},
   "source": [
    "# Wie man seinen Raspberry Pi zusammensetzt und allgemein zum Laufen bringt!\n",
    "\n",
    "## Zusammenschrauben des Raspberry Pi\n",
    "\n",
    "**TO COME**\n",
    "\n",
    "## Download und Installation des Betriebssystems des Raspberry Pi\n",
    "\n",
    "Nach dem Zusammenschrauben kann der Raspberry (noch) nichts. Ihm fehlt das Betriebssystem, mit dem die verschiedenen Komponenten miteinander sprechen können. Da es je nach Anwendungszweck- und anforderungen verschiedene Betriebssysteme gibt, mit denen der Raspberry funktionieren kann, ist noch nichts vorinstalliert, sondern wir müssen das Betriebssystem unserer Wahl erst auf einer leeren/formatierten SD-Karte installieren (ist im gekauften Bundle ebenso wie ein SD-Kartenleser dabei).  \n",
    "\n",
    "Das ganze Downloaden und Installieren braucht Zeit. **Insgesamt eine Stunde** sollte man dafür einplanen, man kann aber gut einen Kaffee dabei trinken ;-)\n",
    "\n",
    "In der Regel - und auch hier - wird Raspbian, dass auf Linux basiert, genutzt. Man kann man von der [raspberrypi.org](https://www.raspberrypi.org/downloads/raspbian/)-Seite (https://www.raspberrypi.org/downloads/raspbian/) auf seinen Rechner herunterladen. Wir laden uns die Version **\"Raspberry Strech with desktop and recommended software\"** als zip-File herunter (knapp 2 GB, dauert also i.d.R. ein paar Minuten)  \n",
    "\n",
    "<img src=\"./pics/2_download_software.png\" width=600 style=\"border:1px solid black\"></br>  \n",
    "\n",
    "und ent-zippen das Ganze (hat danach gut 5 GB).  \n",
    "\n",
    "Das weitere Prozedere ist ebenfalls auf der [raspberrypi.org](https://www.raspberrypi.org/documentation/installation/installing-images/README.md)-Seite im Details beschrieben (https://www.raspberrypi.org/documentation/installation/installing-images/README.md ).  \n",
    "\n",
    "Das Betriebssystem kann aber nicht einfach auf die SD-Karte kopiert werden; es muss ein \"boot-fähiges Image gebrannt\" werden. Wie auch in der Dokumentation beschrieben geht das einigermaßen komfortabel mit dem Programm [**\"Etcher\"**](https://www.balena.io/etcher/), das es für Windows, MacOS und Linux gibt (https://www.balena.io/etcher/, ca. 100 MB). \n",
    "\n",
    "Dann: \n",
    "- Leere/formatierte SD-Karte in den Kartenleser stecken, \n",
    "- mit dem Rechner verbinden, \n",
    "- Etcher starten und \n",
    "- \"flashen\" (was eine knappe halbe Stunde in Anspruch nehmen kann):  \n",
    "\n",
    "<img src=\"./pics/2_flash.png\" width=600 style=\"border:1px solid black\"></br>  \n",
    "\n",
    "Damit sich das Betriebssystem nun vollständig entpackt und initialisiert, stecken wir die **SD-Karte in den kleinen Slot an der Seite des Raspberry**, verbinden den Raspberry mit der USB-Tastatur und -Maus sowie dem HDMI-Bildschirm und schalten ihn dann ein - aber <u>erst dann!</u>, weil der Raspberry sonst z.B. den Bildschirm nicht erkennen kann.  \n",
    "\n",
    "BILD WAS WO REINSTECKEN/VERBINDEN\n",
    "\n",
    "**Erstes Booten und System-Update** des Raspberry (dauert wegen Entpacken des Systems und dem Download der Updates ca. 20min)\n",
    "- So sieht des Startbildschirm aus:  \n",
    "</br><img src=\"./pics/2_boot_welcome.png\" width=400 style=\"border:1px solid black\">  \n",
    "- Nun können/müssen die Landeseinstellungen angepasst werden:  \n",
    "</br><img src=\"./pics/2_boot_country_settings.png\" width=400 style=\"border:1px solid black\">  \n",
    "- Anschließend sollte das Passwort angepasst werden:  \n",
    "</br><img src=\"./pics/2_boot_password.png\" width=400 style=\"border:1px solid black\">  \n",
    "- Außerdem brauchen wir eine WLAN-Verbindung (ggf. Passwort erforderlich!):  \n",
    "</br><img src=\"./pics/2_boot_wifi.png\" width=400 style=\"border:1px solid black\">  \n",
    "- Zuletzt sollte man die Software zur Sicherheit auf den neuesten Stand bringen:  \n",
    "</br><img src=\"./pics/2_boot_update.png\" width=400 style=\"border:1px solid black\">  \n",
    "- Zuletzt muss das System nochmals rebooten:  \n",
    "</br><img src=\"./pics/2_boot_reboot.png\" width=400 style=\"border:1px solid black\">  \n",
    "\n",
    "**Fertig!** ... und bestimmt genug Kaffee für heute getrunken."
   ]
  },
  {
   "cell_type": "code",
   "execution_count": null,
   "metadata": {},
   "outputs": [],
   "source": []
  }
 ],
 "metadata": {
  "kernelspec": {
   "display_name": "Python 3",
   "language": "python",
   "name": "python3"
  },
  "language_info": {
   "codemirror_mode": {
    "name": "ipython",
    "version": 3
   },
   "file_extension": ".py",
   "mimetype": "text/x-python",
   "name": "python",
   "nbconvert_exporter": "python",
   "pygments_lexer": "ipython3",
   "version": "3.6.8"
  }
 },
 "nbformat": 4,
 "nbformat_minor": 2
}
